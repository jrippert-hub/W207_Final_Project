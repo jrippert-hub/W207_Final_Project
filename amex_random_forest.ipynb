{
 "cells": [
  {
   "cell_type": "markdown",
   "id": "1811ebf0",
   "metadata": {},
   "source": [
    "`Julian Rippert - MIDS Spring 2023`"
   ]
  },
  {
   "cell_type": "code",
   "execution_count": 6,
   "id": "6a69e1eb",
   "metadata": {},
   "outputs": [
    {
     "name": "stderr",
     "output_type": "stream",
     "text": [
      "/var/folders/wf/2spndysd73n094ypc_bf19240000gn/T/ipykernel_30083/563490316.py:49: DeprecationWarning: Importing display from IPython.core.display is deprecated since IPython 7.14, please import from IPython display\n",
      "  from IPython.core.display import Image, display\n"
     ]
    }
   ],
   "source": [
    "# standard libraries\n",
    "import pandas as pd\n",
    "import seaborn as sns\n",
    "import numpy as np\n",
    "import pickle\n",
    "\n",
    "np.set_printoptions(suppress=True)\n",
    "pd.options.display.float_format = \"{:,.6f}\".format\n",
    "\n",
    "#import operator\n",
    "\n",
    "# visualizations\n",
    "import matplotlib.pyplot as plt\n",
    "from IPython.display import Image\n",
    "%matplotlib inline\n",
    "\n",
    "# pipelines\n",
    "from sklearn.pipeline import _name_estimators\n",
    "from sklearn.pipeline import Pipeline\n",
    "\n",
    "# data preprocessing, cross-validation, accuracies\n",
    "from sklearn.compose import ColumnTransformer \n",
    "from sklearn.preprocessing import StandardScaler\n",
    "from sklearn.preprocessing import LabelEncoder\n",
    "from sklearn.preprocessing import OneHotEncoder\n",
    "from sklearn.impute import SimpleImputer\n",
    "from sklearn.compose import ColumnTransformer\n",
    "from sklearn.model_selection import train_test_split\n",
    "from sklearn.model_selection import cross_val_score\n",
    "from sklearn.metrics import precision_score, recall_score, f1_score, accuracy_score\n",
    "from sklearn.metrics import confusion_matrix,RocCurveDisplay,  PrecisionRecallDisplay\n",
    "from sklearn.metrics import roc_curve, roc_auc_score,auc, precision_recall_curve\n",
    "from sklearn.model_selection import RandomizedSearchCV\n",
    "from sklearn.model_selection import GridSearchCV\n",
    "from scipy.stats import uniform\n",
    "\n",
    "# individual classifiers\n",
    "from sklearn import tree\n",
    "from sklearn.tree import DecisionTreeClassifier\n",
    "from sklearn.neighbors import KNeighborsClassifier \n",
    "\n",
    "# ensemble classifiers\n",
    "##(not that we use a user defined class for MajorityVoting)\n",
    "from sklearn.ensemble import BaggingClassifier\n",
    "from sklearn.ensemble import AdaBoostClassifier\n",
    "from sklearn.ensemble import RandomForestClassifier\n",
    "\n",
    "# Tree Visualisation\n",
    "from IPython.core.display import Image, display\n",
    "import pydot\n",
    "from pydotplus import graph_from_dot_data\n",
    "from sklearn.tree import export_graphviz\n",
    "\n",
    "# This tells matplotlib not to try opening a new window for each plot.\n",
    "%matplotlib inline\n",
    "\n",
    "# others\n",
    "from sklearn.base import BaseEstimator\n",
    "from sklearn.base import ClassifierMixin\n",
    "from sklearn.base import clone\n",
    "\n",
    "from sklearn.model_selection import train_test_split\n",
    "from sklearn.preprocessing import StandardScaler\n",
    "from sklearn.decomposition import PCA\n",
    "from sklearn.decomposition import KernelPCA\n",
    "from sklearn.decomposition import IncrementalPCA\n",
    "\n",
    "#need this as we have a lot of columns\n",
    "pd.options.display.max_rows = 1000\n",
    "\n",
    "#hide warnings \n",
    "import warnings\n",
    "warnings.filterwarnings(\"ignore\", category=DeprecationWarning)"
   ]
  },
  {
   "cell_type": "markdown",
   "id": "568124b5",
   "metadata": {},
   "source": [
    "## Motivation"
   ]
  },
  {
   "cell_type": "markdown",
   "id": "37e9266f",
   "metadata": {},
   "source": [
    "This data set stems from the __[American Express - Default Prediction](https://www.kaggle.com/competitions/amex-default-prediction/data)__ data set on kaggle.\n",
    "\n",
    "The objective of this competition is to predict the probability that a customer does not pay back their credit card balance amount in the future based on their monthly customer profile. The target binary variable is calculated by observing 18 months performance window after the latest credit card statement, and if the customer does not pay due amount in 120 days after their latest statement date it is considered a default event.\n",
    "\n",
    "The dataset contains aggregated profile features for each customer at each statement date. Features are anonymized and normalized, and fall into the following general categories:\n",
    "\n",
    "- D_* = Delinquency variables\n",
    "- S_* = Spend variables\n",
    "- P_* = Payment variables\n",
    "- B_* = Balance variables\n",
    "- R_* = Risk variables\n",
    "\n",
    " the following features being categorical:\n",
    "['B_30', 'B_38', 'D_114', 'D_116', 'D_117', 'D_120', 'D_126', 'D_63', 'D_64', 'D_66', 'D_68']\n",
    "\n",
    "\n",
    "**Why do we care?** - Default events are financially unfavorable for banks and card issuers since they will not be able to recoup the monies lent out to consumers through credit. Banks may use such default prediction models to monitor its current card-holder base and proactively work with consumers to avoid default actions. Banks may also use such default prediction models to help decide whether or not to issue credit to potential new customers."
   ]
  },
  {
   "cell_type": "markdown",
   "id": "34afd817",
   "metadata": {},
   "source": [
    "___"
   ]
  },
  {
   "cell_type": "markdown",
   "id": "4186d1c8",
   "metadata": {},
   "source": [
    "## Miscellaneous"
   ]
  },
  {
   "cell_type": "code",
   "execution_count": 7,
   "id": "8722b284",
   "metadata": {},
   "outputs": [],
   "source": [
    "def confusion_matrix_plot(conf_matrix):\n",
    "    \"\"\" Confusion matrix matplotlib plot\n",
    "    # param conf_matrix: nested list of TP, TN, FP, FN\n",
    "    # return: None\n",
    "    \"\"\"\n",
    "    fig, ax = plt.subplots(figsize=(2.5, 2.5))\n",
    "    ax.matshow(conf_matrix, cmap=plt.cm.Blues, alpha=0.3)\n",
    "    for i in range(conf_matrix.shape[0]):\n",
    "        for j in range(conf_matrix.shape[1]):\n",
    "            ax.text(x=j, y=i, s=conf_matrix[i, j], va='center', ha='center')\n",
    "\n",
    "    plt.xlabel('Predicted label')\n",
    "    plt.ylabel('True label')\n",
    "\n",
    "    plt.tight_layout()\n",
    "    plt.show()"
   ]
  },
  {
   "cell_type": "markdown",
   "id": "cac87083",
   "metadata": {},
   "source": [
    "___"
   ]
  },
  {
   "cell_type": "markdown",
   "id": "f40a8b54",
   "metadata": {},
   "source": [
    "## Loading in the Data"
   ]
  },
  {
   "cell_type": "markdown",
   "id": "14fa6295",
   "metadata": {},
   "source": [
    "read the data from @munumbutt's __[AMEX-Feather-Dataset](https://www.kaggle.com/datasets/munumbutt/amexfeather)__ In this Feather file, the floating point precision has been reduced from 64 bit to 16 bit"
   ]
  },
  {
   "cell_type": "code",
   "execution_count": 8,
   "id": "99d84df1",
   "metadata": {},
   "outputs": [
    {
     "name": "stdout",
     "output_type": "stream",
     "text": [
      "CPU times: user 3.49 s, sys: 8.05 s, total: 11.5 s\n",
      "Wall time: 3.22 s\n"
     ]
    }
   ],
   "source": [
    "%%time \n",
    "df = pd.read_feather('train_data.ftr')"
   ]
  },
  {
   "cell_type": "markdown",
   "id": "7f05f871",
   "metadata": {},
   "source": [
    "`Lets take a look at the data`"
   ]
  },
  {
   "cell_type": "code",
   "execution_count": 9,
   "id": "df92299d",
   "metadata": {},
   "outputs": [
    {
     "data": {
      "text/html": [
       "<div>\n",
       "<style scoped>\n",
       "    .dataframe tbody tr th:only-of-type {\n",
       "        vertical-align: middle;\n",
       "    }\n",
       "\n",
       "    .dataframe tbody tr th {\n",
       "        vertical-align: top;\n",
       "    }\n",
       "\n",
       "    .dataframe thead th {\n",
       "        text-align: right;\n",
       "    }\n",
       "</style>\n",
       "<table border=\"1\" class=\"dataframe\">\n",
       "  <thead>\n",
       "    <tr style=\"text-align: right;\">\n",
       "      <th></th>\n",
       "      <th>customer_ID</th>\n",
       "      <th>S_2</th>\n",
       "      <th>P_2</th>\n",
       "      <th>D_39</th>\n",
       "      <th>B_1</th>\n",
       "      <th>B_2</th>\n",
       "      <th>R_1</th>\n",
       "      <th>S_3</th>\n",
       "      <th>D_41</th>\n",
       "      <th>B_3</th>\n",
       "      <th>...</th>\n",
       "      <th>D_137</th>\n",
       "      <th>D_138</th>\n",
       "      <th>D_139</th>\n",
       "      <th>D_140</th>\n",
       "      <th>D_141</th>\n",
       "      <th>D_142</th>\n",
       "      <th>D_143</th>\n",
       "      <th>D_144</th>\n",
       "      <th>D_145</th>\n",
       "      <th>target</th>\n",
       "    </tr>\n",
       "  </thead>\n",
       "  <tbody>\n",
       "    <tr>\n",
       "      <th>0</th>\n",
       "      <td>0000099d6bd597052cdcda90ffabf56573fe9d7c79be5f...</td>\n",
       "      <td>2017-03-09</td>\n",
       "      <td>0.938477</td>\n",
       "      <td>0.001734</td>\n",
       "      <td>0.008728</td>\n",
       "      <td>1.006836</td>\n",
       "      <td>0.009224</td>\n",
       "      <td>0.124023</td>\n",
       "      <td>0.008774</td>\n",
       "      <td>0.004707</td>\n",
       "      <td>...</td>\n",
       "      <td>NaN</td>\n",
       "      <td>NaN</td>\n",
       "      <td>0.002426</td>\n",
       "      <td>0.003706</td>\n",
       "      <td>0.003819</td>\n",
       "      <td>NaN</td>\n",
       "      <td>0.000569</td>\n",
       "      <td>0.000610</td>\n",
       "      <td>0.002674</td>\n",
       "      <td>0</td>\n",
       "    </tr>\n",
       "    <tr>\n",
       "      <th>1</th>\n",
       "      <td>0000099d6bd597052cdcda90ffabf56573fe9d7c79be5f...</td>\n",
       "      <td>2017-04-07</td>\n",
       "      <td>0.936523</td>\n",
       "      <td>0.005775</td>\n",
       "      <td>0.004925</td>\n",
       "      <td>1.000977</td>\n",
       "      <td>0.006153</td>\n",
       "      <td>0.126709</td>\n",
       "      <td>0.000798</td>\n",
       "      <td>0.002714</td>\n",
       "      <td>...</td>\n",
       "      <td>NaN</td>\n",
       "      <td>NaN</td>\n",
       "      <td>0.003956</td>\n",
       "      <td>0.003166</td>\n",
       "      <td>0.005032</td>\n",
       "      <td>NaN</td>\n",
       "      <td>0.009575</td>\n",
       "      <td>0.005493</td>\n",
       "      <td>0.009216</td>\n",
       "      <td>0</td>\n",
       "    </tr>\n",
       "  </tbody>\n",
       "</table>\n",
       "<p>2 rows × 191 columns</p>\n",
       "</div>"
      ],
      "text/plain": [
       "                                         customer_ID        S_2      P_2  \\\n",
       "0  0000099d6bd597052cdcda90ffabf56573fe9d7c79be5f... 2017-03-09 0.938477   \n",
       "1  0000099d6bd597052cdcda90ffabf56573fe9d7c79be5f... 2017-04-07 0.936523   \n",
       "\n",
       "      D_39      B_1      B_2      R_1      S_3     D_41      B_3  ...  D_137  \\\n",
       "0 0.001734 0.008728 1.006836 0.009224 0.124023 0.008774 0.004707  ...    NaN   \n",
       "1 0.005775 0.004925 1.000977 0.006153 0.126709 0.000798 0.002714  ...    NaN   \n",
       "\n",
       "   D_138    D_139    D_140    D_141  D_142    D_143    D_144    D_145  target  \n",
       "0    NaN 0.002426 0.003706 0.003819    NaN 0.000569 0.000610 0.002674       0  \n",
       "1    NaN 0.003956 0.003166 0.005032    NaN 0.009575 0.005493 0.009216       0  \n",
       "\n",
       "[2 rows x 191 columns]"
      ]
     },
     "metadata": {},
     "output_type": "display_data"
    }
   ],
   "source": [
    "display(df.head(2))\n",
    "#df.value_counts()"
   ]
  },
  {
   "cell_type": "markdown",
   "id": "21ef2e29",
   "metadata": {},
   "source": [
    "Since it is a time series dataset, we have to sort it by the date or S_2 feature, then will seperate into the train and test split."
   ]
  },
  {
   "cell_type": "code",
   "execution_count": 10,
   "id": "b24c393c",
   "metadata": {},
   "outputs": [],
   "source": [
    "df = df.sort_values(by ='S_2')"
   ]
  },
  {
   "cell_type": "markdown",
   "id": "dff06a70",
   "metadata": {},
   "source": [
    "\n",
    "___"
   ]
  },
  {
   "cell_type": "markdown",
   "id": "4816754c",
   "metadata": {},
   "source": [
    "## Exploratory Data Analysis"
   ]
  },
  {
   "cell_type": "markdown",
   "id": "6b6eac5d",
   "metadata": {},
   "source": [
    "From the describe below we can confirm that the data is already normalized which was mentioned in the kaggle prompt. Mean data is mostly nan since many columns have nans, we will deal with these later one\n",
    "\n",
    "For EDA purposes we will take a sample of the dataframe given its size"
   ]
  },
  {
   "cell_type": "code",
   "execution_count": 11,
   "id": "2db6ace4",
   "metadata": {},
   "outputs": [],
   "source": [
    "#since we want to maintain the integrity of our test data set we can look at the first 35% of rows \n",
    "n = 35\n",
    "eda_df = df.head(int(len(df)*(n/100)))"
   ]
  },
  {
   "cell_type": "code",
   "execution_count": 14,
   "id": "08cb399c",
   "metadata": {
    "scrolled": true
   },
   "outputs": [],
   "source": [
    "#did head method from compacter printer to PDF purposes\n",
    "eda_describ = eda_df.describe().transpose()"
   ]
  },
  {
   "cell_type": "code",
   "execution_count": 16,
   "id": "7f0f596e",
   "metadata": {
    "scrolled": true
   },
   "outputs": [
    {
     "data": {
      "text/html": [
       "<div>\n",
       "<style scoped>\n",
       "    .dataframe tbody tr th:only-of-type {\n",
       "        vertical-align: middle;\n",
       "    }\n",
       "\n",
       "    .dataframe tbody tr th {\n",
       "        vertical-align: top;\n",
       "    }\n",
       "\n",
       "    .dataframe thead th {\n",
       "        text-align: right;\n",
       "    }\n",
       "</style>\n",
       "<table border=\"1\" class=\"dataframe\">\n",
       "  <thead>\n",
       "    <tr style=\"text-align: right;\">\n",
       "      <th></th>\n",
       "      <th>count</th>\n",
       "      <th>mean</th>\n",
       "      <th>std</th>\n",
       "      <th>min</th>\n",
       "      <th>25%</th>\n",
       "      <th>50%</th>\n",
       "      <th>75%</th>\n",
       "      <th>max</th>\n",
       "    </tr>\n",
       "  </thead>\n",
       "  <tbody>\n",
       "    <tr>\n",
       "      <th>D_42</th>\n",
       "      <td>283,952.000000</td>\n",
       "      <td>0.000000</td>\n",
       "      <td>0.000000</td>\n",
       "      <td>-0.000372</td>\n",
       "      <td>0.040314</td>\n",
       "      <td>0.123779</td>\n",
       "      <td>0.258057</td>\n",
       "      <td>4.187500</td>\n",
       "    </tr>\n",
       "    <tr>\n",
       "      <th>D_49</th>\n",
       "      <td>171,995.000000</td>\n",
       "      <td>0.000000</td>\n",
       "      <td>0.000000</td>\n",
       "      <td>0.000007</td>\n",
       "      <td>0.062439</td>\n",
       "      <td>0.131104</td>\n",
       "      <td>0.245972</td>\n",
       "      <td>19.953125</td>\n",
       "    </tr>\n",
       "    <tr>\n",
       "      <th>D_53</th>\n",
       "      <td>477,308.000000</td>\n",
       "      <td>0.000000</td>\n",
       "      <td>0.000000</td>\n",
       "      <td>0.000000</td>\n",
       "      <td>0.005875</td>\n",
       "      <td>0.011810</td>\n",
       "      <td>0.039185</td>\n",
       "      <td>7.902344</td>\n",
       "    </tr>\n",
       "    <tr>\n",
       "      <th>R_4</th>\n",
       "      <td>1,936,007.000000</td>\n",
       "      <td>0.000000</td>\n",
       "      <td>0.000000</td>\n",
       "      <td>0.000000</td>\n",
       "      <td>0.002539</td>\n",
       "      <td>0.005081</td>\n",
       "      <td>0.007626</td>\n",
       "      <td>1.009766</td>\n",
       "    </tr>\n",
       "    <tr>\n",
       "      <th>R_5</th>\n",
       "      <td>1,936,007.000000</td>\n",
       "      <td>0.000000</td>\n",
       "      <td>0.000000</td>\n",
       "      <td>0.000000</td>\n",
       "      <td>0.002550</td>\n",
       "      <td>0.005096</td>\n",
       "      <td>0.007645</td>\n",
       "      <td>17.515625</td>\n",
       "    </tr>\n",
       "  </tbody>\n",
       "</table>\n",
       "</div>"
      ],
      "text/plain": [
       "                count     mean      std       min      25%      50%      75%  \\\n",
       "D_42   283,952.000000 0.000000 0.000000 -0.000372 0.040314 0.123779 0.258057   \n",
       "D_49   171,995.000000 0.000000 0.000000  0.000007 0.062439 0.131104 0.245972   \n",
       "D_53   477,308.000000 0.000000 0.000000  0.000000 0.005875 0.011810 0.039185   \n",
       "R_4  1,936,007.000000 0.000000 0.000000  0.000000 0.002539 0.005081 0.007626   \n",
       "R_5  1,936,007.000000 0.000000 0.000000  0.000000 0.002550 0.005096 0.007645   \n",
       "\n",
       "           max  \n",
       "D_42  4.187500  \n",
       "D_49 19.953125  \n",
       "D_53  7.902344  \n",
       "R_4   1.009766  \n",
       "R_5  17.515625  "
      ]
     },
     "execution_count": 16,
     "metadata": {},
     "output_type": "execute_result"
    }
   ],
   "source": [
    "#since I know there are many NaN lets see its standardized properly by returning non Nan rows\n",
    "eda_describ[~eda_describ.isnull().any(axis=1)].head()"
   ]
  },
  {
   "cell_type": "code",
   "execution_count": 198,
   "id": "ef4e0e6c",
   "metadata": {},
   "outputs": [
    {
     "name": "stdout",
     "output_type": "stream",
     "text": [
      "0.0    1679272\n",
      "1.0     238519\n",
      "2.0      17264\n",
      "Name: B_30, dtype: int64\n",
      "2.0    726993\n",
      "3.0    442452\n",
      "1.0    390498\n",
      "5.0    147417\n",
      "4.0     94695\n",
      "7.0     81702\n",
      "6.0     51298\n",
      "Name: B_38, dtype: int64\n",
      "1.0    1151826\n",
      "0.0     726763\n",
      "Name: D_114, dtype: int64\n",
      "0.0    1876702\n",
      "1.0       1887\n",
      "Name: D_116, dtype: int64\n",
      "-1.0    504835\n",
      "3.0     416188\n",
      "4.0     396819\n",
      "2.0     242197\n",
      "5.0     156953\n",
      "6.0     114790\n",
      "1.0      46807\n",
      "Name: D_117, dtype: int64\n",
      "0.0    1723117\n",
      "1.0     155472\n",
      "Name: D_120, dtype: int64\n",
      "1.0     1528434\n",
      "0.0      286581\n",
      "-1.0      75215\n",
      "Name: D_126, dtype: int64\n",
      "CO    1428972\n",
      "CR     336769\n",
      "CL     154494\n",
      "XZ       9405\n",
      "XM       3672\n",
      "XL       2695\n",
      "Name: D_63, dtype: int64\n",
      "O     1022626\n",
      "U      514145\n",
      "R      294146\n",
      "        69495\n",
      "-1      35595\n",
      "Name: D_64, dtype: int64\n",
      "1.0    215107\n",
      "0.0      6288\n",
      "Name: D_66, dtype: int64\n",
      "6.0    993990\n",
      "5.0    398892\n",
      "3.0    167110\n",
      "4.0    158842\n",
      "2.0     77401\n",
      "1.0     48556\n",
      "0.0     15925\n",
      "Name: D_68, dtype: int64\n"
     ]
    }
   ],
   "source": [
    "categoricals = ['B_30', 'B_38', 'D_114', 'D_116', 'D_117', 'D_120', 'D_126', 'D_63', 'D_64', 'D_66', 'D_68']\n",
    "for i in categoricals:\n",
    "    print(eda_df[i].value_counts())"
   ]
  },
  {
   "cell_type": "markdown",
   "id": "9cc5af74",
   "metadata": {},
   "source": [
    "Most categoricals look ok however, I will have to make the following adjustments: \n",
    "* B_38, reindex to start index 0 \n",
    "* D_117,D_126,D_64 Drop since it includes negative, kaggle provides no info on what that means\n",
    "* D_63, needs to be one hot encoded"
   ]
  },
  {
   "cell_type": "code",
   "execution_count": 200,
   "id": "0ac013c5",
   "metadata": {
    "scrolled": false
   },
   "outputs": [
    {
     "data": {
      "image/png": "[encoded data removed]",
      "text/plain": [
       "<Figure size 700x700 with 1 Axes>"
      ]
     },
     "metadata": {},
     "output_type": "display_data"
    }
   ],
   "source": [
    "#Visually inspect Nans\n",
    "plt.figure(figsize=(7, 7))\n",
    "plt.imshow(eda_df.isna(), aspect=\"auto\", interpolation=\"nearest\", cmap=\"gray\")\n",
    "plt.xlabel(\"Column Number\")\n",
    "plt.ylabel(\"Sample Number\")\n",
    "plt.show()"
   ]
  },
  {
   "cell_type": "markdown",
   "id": "36cf455e",
   "metadata": {},
   "source": [
    "As we can see, some columns seems to be have very high amounts of NaNs, lets find the columns to drop according to a 40% threshold below"
   ]
  },
  {
   "cell_type": "code",
   "execution_count": 201,
   "id": "919b830c",
   "metadata": {},
   "outputs": [
    {
     "name": "stdout",
     "output_type": "stream",
     "text": [
      "Length before filtering out high Nan count cols:  191\n",
      "Number of columns to drop:  62\n"
     ]
    }
   ],
   "source": [
    "del_cols = eda_df.isna().sum()/eda_df.shape[0]\n",
    "print(\"Length before filtering out high Nan count cols: \",del_cols.size)\n",
    "del_cols = del_cols.reset_index() \n",
    "del_cols.columns = [\"Features\",\"Percent_nans\"]\n",
    "del_cols = del_cols[del_cols.Percent_nans > 0.4]\n",
    "print(\"Number of columns to drop: \",del_cols.size)\n"
   ]
  },
  {
   "cell_type": "code",
   "execution_count": 202,
   "id": "da868f6f",
   "metadata": {},
   "outputs": [
    {
     "data": {
      "text/plain": [
       "array(['D_42', 'D_49', 'D_50', 'D_53', 'D_56', 'S_9', 'B_17', 'D_66',\n",
       "       'D_73', 'D_76', 'D_77', 'R_9', 'D_82', 'B_29', 'D_87', 'D_88',\n",
       "       'D_105', 'D_106', 'R_26', 'D_108', 'D_110', 'D_111', 'B_39',\n",
       "       'B_42', 'D_132', 'D_134', 'D_135', 'D_136', 'D_137', 'D_138',\n",
       "       'D_142'], dtype=object)"
      ]
     },
     "execution_count": 202,
     "metadata": {},
     "output_type": "execute_result"
    }
   ],
   "source": [
    "del_cols.Features.values"
   ]
  },
  {
   "cell_type": "markdown",
   "id": "c8b58178",
   "metadata": {},
   "source": [
    "Per the above we will drop all columns which are more than 40% NaNs. At some point the mean imputing will be futile.\n",
    "\n",
    "Cols to delete = ['D_42', 'D_49', 'D_50', 'D_53', 'D_56', 'S_9', 'B_17', 'D_66',\n",
    "       'D_73', 'D_76', 'D_77', 'R_9', 'D_82', 'B_29', 'D_87', 'D_88',\n",
    "       'D_105', 'D_106', 'R_26', 'D_108', 'D_110', 'D_111', 'B_39',\n",
    "       'B_42', 'D_132', 'D_134', 'D_135', 'D_136', 'D_137', 'D_138',\n",
    "       'D_142']"
   ]
  },
  {
   "cell_type": "markdown",
   "id": "8e40960a",
   "metadata": {},
   "source": [
    "Lets look at the correlation of variables. But with a subsample of the data given the size"
   ]
  },
  {
   "cell_type": "code",
   "execution_count": 203,
   "id": "3f322cc8",
   "metadata": {
    "scrolled": false
   },
   "outputs": [
    {
     "name": "stderr",
     "output_type": "stream",
     "text": [
      "<timed exec>:2: FutureWarning: The default value of numeric_only in DataFrame.corr is deprecated. In a future version, it will default to False. Select only valid columns or specify the value of numeric_only to silence this warning.\n"
     ]
    },
    {
     "data": {
      "image/png": "[encoded data removed]",
      "text/plain": [
       "<Figure size 1600x1200 with 2 Axes>"
      ]
     },
     "metadata": {},
     "output_type": "display_data"
    },
    {
     "name": "stdout",
     "output_type": "stream",
     "text": [
      "CPU times: user 27.2 s, sys: 961 ms, total: 28.2 s\n",
      "Wall time: 27.9 s\n"
     ]
    }
   ],
   "source": [
    "%%time\n",
    "sample_corr_df = eda_df.sample(frac=0.3, replace=False)\n",
    "correlations = sample_corr_df.corr().abs()\n",
    "\n",
    "mask=np.triu(np.ones_like(correlations))\n",
    "\n",
    "fig, ax = plt.subplots(1,1, figsize=(16,12))\n",
    "sns.heatmap(correlations, ax=ax, mask=mask, cmap='YlOrBr')\n",
    "ax.set_title(\"Correlation of features\")\n",
    "plt.show()"
   ]
  },
  {
   "cell_type": "code",
   "execution_count": 204,
   "id": "6cb72205",
   "metadata": {},
   "outputs": [],
   "source": [
    "#save some memory\n",
    "del eda_df"
   ]
  },
  {
   "cell_type": "markdown",
   "id": "da078a09",
   "metadata": {},
   "source": [
    "___"
   ]
  },
  {
   "cell_type": "markdown",
   "id": "ebe3284c",
   "metadata": {},
   "source": [
    "## Pre-Processing & Feature Engineering"
   ]
  },
  {
   "cell_type": "markdown",
   "id": "6575832d",
   "metadata": {},
   "source": [
    "`Feature Engineeering`"
   ]
  },
  {
   "cell_type": "code",
   "execution_count": 6,
   "id": "55813ed0",
   "metadata": {
    "scrolled": true
   },
   "outputs": [
    {
     "data": {
      "text/html": [
       "<div>\n",
       "<style scoped>\n",
       "    .dataframe tbody tr th:only-of-type {\n",
       "        vertical-align: middle;\n",
       "    }\n",
       "\n",
       "    .dataframe tbody tr th {\n",
       "        vertical-align: top;\n",
       "    }\n",
       "\n",
       "    .dataframe thead th {\n",
       "        text-align: right;\n",
       "    }\n",
       "</style>\n",
       "<table border=\"1\" class=\"dataframe\">\n",
       "  <thead>\n",
       "    <tr style=\"text-align: right;\">\n",
       "      <th></th>\n",
       "      <th>P_2</th>\n",
       "      <th>D_39</th>\n",
       "      <th>B_1</th>\n",
       "      <th>B_2</th>\n",
       "      <th>R_1</th>\n",
       "      <th>S_3</th>\n",
       "      <th>D_41</th>\n",
       "      <th>B_3</th>\n",
       "      <th>D_42</th>\n",
       "      <th>D_43</th>\n",
       "      <th>...</th>\n",
       "      <th>D_137</th>\n",
       "      <th>D_138</th>\n",
       "      <th>D_139</th>\n",
       "      <th>D_140</th>\n",
       "      <th>D_141</th>\n",
       "      <th>D_142</th>\n",
       "      <th>D_143</th>\n",
       "      <th>D_144</th>\n",
       "      <th>D_145</th>\n",
       "      <th>target</th>\n",
       "    </tr>\n",
       "  </thead>\n",
       "  <tbody>\n",
       "    <tr>\n",
       "      <th>1514245</th>\n",
       "      <td>0.840332</td>\n",
       "      <td>0.385498</td>\n",
       "      <td>0.014931</td>\n",
       "      <td>0.255859</td>\n",
       "      <td>0.003902</td>\n",
       "      <td>0.148682</td>\n",
       "      <td>0.160400</td>\n",
       "      <td>0.040253</td>\n",
       "      <td>NaN</td>\n",
       "      <td>0.194092</td>\n",
       "      <td>...</td>\n",
       "      <td>NaN</td>\n",
       "      <td>NaN</td>\n",
       "      <td>0.007015</td>\n",
       "      <td>0.005955</td>\n",
       "      <td>0.000452</td>\n",
       "      <td>NaN</td>\n",
       "      <td>0.009331</td>\n",
       "      <td>0.007061</td>\n",
       "      <td>0.008537</td>\n",
       "      <td>0</td>\n",
       "    </tr>\n",
       "    <tr>\n",
       "      <th>1586367</th>\n",
       "      <td>0.608887</td>\n",
       "      <td>0.566895</td>\n",
       "      <td>0.037079</td>\n",
       "      <td>1.004883</td>\n",
       "      <td>0.001968</td>\n",
       "      <td>0.145142</td>\n",
       "      <td>0.006760</td>\n",
       "      <td>0.006065</td>\n",
       "      <td>NaN</td>\n",
       "      <td>0.242676</td>\n",
       "      <td>...</td>\n",
       "      <td>NaN</td>\n",
       "      <td>NaN</td>\n",
       "      <td>0.003370</td>\n",
       "      <td>0.004475</td>\n",
       "      <td>0.004517</td>\n",
       "      <td>NaN</td>\n",
       "      <td>0.007591</td>\n",
       "      <td>0.007519</td>\n",
       "      <td>0.007584</td>\n",
       "      <td>0</td>\n",
       "    </tr>\n",
       "  </tbody>\n",
       "</table>\n",
       "<p>2 rows × 189 columns</p>\n",
       "</div>"
      ],
      "text/plain": [
       "             P_2     D_39      B_1      B_2      R_1      S_3     D_41  \\\n",
       "1514245 0.840332 0.385498 0.014931 0.255859 0.003902 0.148682 0.160400   \n",
       "1586367 0.608887 0.566895 0.037079 1.004883 0.001968 0.145142 0.006760   \n",
       "\n",
       "             B_3  D_42     D_43  ...  D_137  D_138    D_139    D_140    D_141  \\\n",
       "1514245 0.040253   NaN 0.194092  ...    NaN    NaN 0.007015 0.005955 0.000452   \n",
       "1586367 0.006065   NaN 0.242676  ...    NaN    NaN 0.003370 0.004475 0.004517   \n",
       "\n",
       "         D_142    D_143    D_144    D_145  target  \n",
       "1514245    NaN 0.009331 0.007061 0.008537       0  \n",
       "1586367    NaN 0.007591 0.007519 0.007584       0  \n",
       "\n",
       "[2 rows x 189 columns]"
      ]
     },
     "execution_count": 6,
     "metadata": {},
     "output_type": "execute_result"
    }
   ],
   "source": [
    "#drop the ID column and date columns since it wont help out model\n",
    "df.pop('customer_ID')\n",
    "df.pop('S_2')\n",
    "\n",
    "df.head(2)"
   ]
  },
  {
   "cell_type": "markdown",
   "id": "744f82f5",
   "metadata": {},
   "source": [
    "I need to drop the columns up from above which were predominantly NaNs\n",
    " ['D_42', 'D_49', 'D_50', 'D_53', 'D_56', 'S_9', 'B_17', 'D_66', 'D_73', 'D_76', 'D_77', 'R_9', 'D_82', 'B_29', 'D_87', 'D_88', 'D_105', 'D_106', 'R_26', 'D_108', 'D_110', 'D_111', 'B_39', 'B_42', 'D_132', 'D_134', 'D_135', 'D_136', 'D_137', 'D_138', 'D_142']"
   ]
  },
  {
   "cell_type": "code",
   "execution_count": 7,
   "id": "596c556e",
   "metadata": {},
   "outputs": [],
   "source": [
    "del_cols = ['D_42', 'D_49', 'D_50', 'D_53', 'D_56', 'S_9', 'B_17', 'D_66', 'D_73', 'D_76', \n",
    "            'D_77', 'R_9', 'D_82', 'B_29', 'D_87', 'D_88', 'D_105', 'D_106', 'R_26', 'D_108',\n",
    "            'D_110', 'D_111', 'B_39', 'B_42', 'D_132', 'D_134', 'D_135', 'D_136', 'D_137', 'D_138', 'D_142']\n",
    "\n",
    "for i in del_cols: \n",
    "    df.pop(i)"
   ]
  },
  {
   "cell_type": "markdown",
   "id": "1f0c0cae",
   "metadata": {},
   "source": [
    "Lets check out the new dimensions of our data:"
   ]
  },
  {
   "cell_type": "code",
   "execution_count": 8,
   "id": "4cb794dd",
   "metadata": {
    "scrolled": true
   },
   "outputs": [
    {
     "data": {
      "text/plain": [
       "(5531451, 158)"
      ]
     },
     "execution_count": 8,
     "metadata": {},
     "output_type": "execute_result"
    }
   ],
   "source": [
    "df.shape"
   ]
  },
  {
   "cell_type": "code",
   "execution_count": 9,
   "id": "679c5c14",
   "metadata": {},
   "outputs": [],
   "source": [
    "cols = df.columns\n",
    "#new_cols = [i for i in cols if i not in del_cols]"
   ]
  },
  {
   "cell_type": "markdown",
   "id": "357b620c",
   "metadata": {},
   "source": [
    "B_38 needs to be reindex to start index 0"
   ]
  },
  {
   "cell_type": "code",
   "execution_count": 10,
   "id": "2c927ac7",
   "metadata": {},
   "outputs": [
    {
     "data": {
      "text/plain": [
       "1    1953232\n",
       "2    1255315\n",
       "0    1160047\n",
       "4     444856\n",
       "3     294917\n",
       "6     259028\n",
       "5     162040\n",
       "Name: B_38, dtype: int64"
      ]
     },
     "execution_count": 10,
     "metadata": {},
     "output_type": "execute_result"
    }
   ],
   "source": [
    "B_38_mapping = {label: idx for idx, label in enumerate(np.unique(df['B_38']))}\n",
    "df['B_38'] = df['B_38'].map(B_38_mapping)\n",
    "\n",
    "#lets confirm it worked\n",
    "df['B_38'].value_counts()"
   ]
  },
  {
   "cell_type": "markdown",
   "id": "5aefb627",
   "metadata": {},
   "source": [
    "Drop the categoricals with negative values, unclear what these signify\n",
    "\n",
    "D_117\n",
    "D_126\n",
    "D_64\n",
    "\n",
    "For D_63, this column need to be one hot encoded"
   ]
  },
  {
   "cell_type": "code",
   "execution_count": 11,
   "id": "f9132c24",
   "metadata": {
    "scrolled": true
   },
   "outputs": [
    {
     "data": {
      "text/plain": [
       "45"
      ]
     },
     "metadata": {},
     "output_type": "display_data"
    }
   ],
   "source": [
    "df.pop('D_117')\n",
    "df.pop('D_126')\n",
    "df.pop('D_64')\n",
    "display(df.columns.get_loc(\"D_63\"))"
   ]
  },
  {
   "cell_type": "code",
   "execution_count": 12,
   "id": "631cf9a4",
   "metadata": {},
   "outputs": [],
   "source": [
    "col = df.columns"
   ]
  },
  {
   "cell_type": "code",
   "execution_count": 13,
   "id": "032e3acb",
   "metadata": {},
   "outputs": [
    {
     "name": "stdout",
     "output_type": "stream",
     "text": [
      "CPU times: user 5.68 s, sys: 10.2 s, total: 15.9 s\n",
      "Wall time: 23.7 s\n"
     ]
    }
   ],
   "source": [
    "%%time\n",
    "columnTransformer = ColumnTransformer([('encoder', OneHotEncoder(), [45])], remainder='passthrough')\n",
    "df = columnTransformer.fit_transform(df)"
   ]
  },
  {
   "cell_type": "code",
   "execution_count": 14,
   "id": "cbd4ca13",
   "metadata": {},
   "outputs": [],
   "source": [
    "#the onehot encoded cols need to be standardized as well\n",
    "column_trans = ColumnTransformer([('scaler', StandardScaler(),[0,1,2,3,4,5])],\n",
    "                                   remainder='passthrough') \n",
    "df = column_trans.fit_transform(df)"
   ]
  },
  {
   "cell_type": "markdown",
   "id": "a46cc83d",
   "metadata": {},
   "source": [
    "for all cols which we didnt drop due to our nan thresholds we will impute the mean"
   ]
  },
  {
   "cell_type": "code",
   "execution_count": 15,
   "id": "6ef2cf64",
   "metadata": {},
   "outputs": [
    {
     "name": "stdout",
     "output_type": "stream",
     "text": [
      "CPU times: user 8.07 s, sys: 11.8 s, total: 19.8 s\n",
      "Wall time: 22.9 s\n"
     ]
    }
   ],
   "source": [
    "%%time \n",
    "\n",
    "imp=SimpleImputer(missing_values=np.NaN, strategy='constant', fill_value = -1)\n",
    "df=pd.DataFrame(imp.fit_transform(df))"
   ]
  },
  {
   "cell_type": "code",
   "execution_count": 16,
   "id": "f0dc035b",
   "metadata": {
    "scrolled": false
   },
   "outputs": [
    {
     "data": {
      "text/plain": [
       "array([0., 0., 0., 0., 0., 0., 0., 0., 0., 0., 0., 0., 0., 0., 0., 0., 0.,\n",
       "       0., 0., 0., 0., 0., 0., 0., 0., 0., 0., 0., 0., 0., 0., 0., 0., 0.,\n",
       "       0., 0., 0., 0., 0., 0., 0., 0., 0., 0., 0., 0., 0., 0., 0., 0., 0.,\n",
       "       0., 0., 0., 0., 0., 0., 0., 0., 0., 0., 0., 0., 0., 0., 0., 0., 0.,\n",
       "       0., 0., 0., 0., 0., 0., 0., 0., 0., 0., 0., 0., 0., 0., 0., 0., 0.,\n",
       "       0., 0., 0., 0., 0., 0., 0., 0., 0., 0., 0., 0., 0., 0., 0., 0., 0.,\n",
       "       0., 0., 0., 0., 0., 0., 0., 0., 0., 0., 0., 0., 0., 0., 0., 0., 0.,\n",
       "       0., 0., 0., 0., 0., 0., 0., 0., 0., 0., 0., 0., 0., 0., 0., 0., 0.,\n",
       "       0., 0., 0., 0., 0., 0., 0., 0., 0., 0., 0., 0., 0., 0., 0., 0., 0.,\n",
       "       0., 0., 0., 0., 0., 0., 0.])"
      ]
     },
     "execution_count": 16,
     "metadata": {},
     "output_type": "execute_result"
    }
   ],
   "source": [
    "#lets confirm it worked\n",
    "np.array(df.isna().sum()/df.shape[0])"
   ]
  },
  {
   "cell_type": "code",
   "execution_count": 17,
   "id": "8b5028ed",
   "metadata": {},
   "outputs": [],
   "source": [
    "col = list(col)\n",
    "col.remove('D_63')"
   ]
  },
  {
   "cell_type": "code",
   "execution_count": 18,
   "id": "790ac6df",
   "metadata": {},
   "outputs": [],
   "source": [
    "one_hot_cols = ['onehot1','onehot2','onehot3','onehot4','onehot5','onehot6']\n",
    "new_cols = one_hot_cols + col"
   ]
  },
  {
   "cell_type": "code",
   "execution_count": 19,
   "id": "7e222992",
   "metadata": {},
   "outputs": [],
   "source": [
    "df.columns = new_cols"
   ]
  },
  {
   "cell_type": "markdown",
   "id": "d5e083f9",
   "metadata": {},
   "source": [
    "___"
   ]
  },
  {
   "cell_type": "markdown",
   "id": "fd05b0ac",
   "metadata": {},
   "source": [
    "## Split the Datasets"
   ]
  },
  {
   "cell_type": "markdown",
   "id": "4b35b861",
   "metadata": {},
   "source": [
    "`Lets Split the dataset`"
   ]
  },
  {
   "cell_type": "code",
   "execution_count": 178,
   "id": "26850190",
   "metadata": {},
   "outputs": [],
   "source": [
    "X = df\n",
    "Y = X.pop('target')"
   ]
  },
  {
   "cell_type": "code",
   "execution_count": 179,
   "id": "4bfc7150",
   "metadata": {},
   "outputs": [],
   "source": [
    "#shuffle default is True, we set to false to preserve time series ordering\n",
    "X_train, X_test, Y_train, Y_test = train_test_split(X, Y, test_size=0.2, shuffle = False)\n",
    "\n",
    "# 0.25 x 0.8 = 0.2\n",
    "X_train, X_val, Y_train, Y_val = train_test_split(X_train, Y_train, test_size=0.25,  shuffle = False) "
   ]
  },
  {
   "cell_type": "code",
   "execution_count": 180,
   "id": "70f0f935",
   "metadata": {
    "scrolled": false
   },
   "outputs": [
    {
     "name": "stdout",
     "output_type": "stream",
     "text": [
      "Training Features dimensions:  (3318870, 190)\n",
      "Training Labels dimensions:  (3318870,)\n",
      "Validation Features dimensions:  (1106290, 190)\n",
      "Validation Labels dimensions:  (1106290,)\n",
      "Test Features dimensions:  (1106291, 190)\n",
      "Test Labels dimensions:  (1106291,) \n",
      "\n",
      "Training Percent of Positive Labels:  0.2440 \n",
      "\n",
      "Validation Percent of Positive Labels:  0.2553\n"
     ]
    }
   ],
   "source": [
    "print('Training Features dimensions: ', X_train.shape)\n",
    "print('Training Labels dimensions: ', Y_train.shape)\n",
    "print('Validation Features dimensions: ', X_val.shape)\n",
    "print('Validation Labels dimensions: ', Y_val.shape)\n",
    "print('Test Features dimensions: ', X_test.shape)\n",
    "print('Test Labels dimensions: ', Y_test.shape,'\\n')\n",
    "\n",
    "print('Training Percent of Positive Labels:  %.4f'%(Y_train.value_counts()[1]/Y_train.value_counts().sum()), '\\n')\n",
    "print('Validation Percent of Positive Labels:  %.4f'%(Y_val.value_counts()[1]/Y_val.value_counts().sum()))"
   ]
  },
  {
   "cell_type": "markdown",
   "id": "a15683d7",
   "metadata": {},
   "source": [
    "Even though we did not ensure stratification of our label across training and test dataset, we have results in a pretty even distribution of labels"
   ]
  },
  {
   "cell_type": "markdown",
   "id": "dc1cbc3d",
   "metadata": {},
   "source": [
    "The last step, to save some memory lets delete the original datasets"
   ]
  },
  {
   "cell_type": "code",
   "execution_count": 181,
   "id": "e5caa61d",
   "metadata": {},
   "outputs": [],
   "source": [
    "del df, X, Y"
   ]
  },
  {
   "cell_type": "markdown",
   "id": "41eeac38",
   "metadata": {},
   "source": [
    "___"
   ]
  },
  {
   "cell_type": "markdown",
   "id": "11e87561",
   "metadata": {},
   "source": [
    "## Dimensionality Reduction"
   ]
  },
  {
   "cell_type": "markdown",
   "id": "ec7e0687",
   "metadata": {},
   "source": [
    "Although the we would not necassarily require dimensionality reduction for our random forest model, given the size of our data (>5m rows) we will reduce the feature size in order to improve the efficiency of our training models. \n",
    "\n",
    "**first we need to figure out how many components to reduce down to**\n"
   ]
  },
  {
   "cell_type": "code",
   "execution_count": null,
   "id": "644ead6d",
   "metadata": {},
   "outputs": [],
   "source": [
    "#did not output for easier printing\n",
    "cov_matrix = np.cov(X_train.T)\n",
    "pd.DataFrame(cov_matrix).head(30)"
   ]
  },
  {
   "cell_type": "code",
   "execution_count": 133,
   "id": "f88643fa",
   "metadata": {},
   "outputs": [],
   "source": [
    "eigen_values, eigen_vectors = np.linalg.eigh(cov_matrix)"
   ]
  },
  {
   "cell_type": "markdown",
   "id": "4f245c88",
   "metadata": {},
   "source": [
    "We are interested in the top  𝑘\n",
    "  eigenvectors as defined by their coresponding eigenvalue. Let's plot the **explained variance ratio** of the eigenvalues:\n",
    "\n",
    "$ = \\frac{\\lambda_j}{\\sum_{j=1}^d \\lambda_j}$, \n",
    "So the explained variance ratio is the fraction of an eigenvalue $j$ and the total sum of eigenvalues."
   ]
  },
  {
   "cell_type": "code",
   "execution_count": null,
   "id": "b54db61f",
   "metadata": {},
   "outputs": [],
   "source": [
    "# compute the explained variance ratio\n",
    "sum_eigen_values = sum(eigen_values)\n",
    "print('Sum eigenvalues: ', sum_eigen_values)\n",
    "\n",
    "#did not output for easier printing\n",
    "expl_var_ratio = [i/sum_eigen_values for i in sorted(eigen_values, reverse=True)]\n",
    "print('\\nExplained variance ratio:')\n",
    "#did head method for easier printing\n",
    "pd.DataFrame(expl_var_ratio).head(30)"
   ]
  },
  {
   "cell_type": "code",
   "execution_count": 147,
   "id": "1f32f188",
   "metadata": {},
   "outputs": [
    {
     "data": {
      "image/png": "[encoded data removed]",
      "text/plain": [
       "<Figure size 1200x500 with 1 Axes>"
      ]
     },
     "metadata": {},
     "output_type": "display_data"
    }
   ],
   "source": [
    "# visualize the explained variance ratio and the cumulative explained variance ratio\n",
    "x_axis = range(1,(len(eigen_values)+1)//2)\n",
    "y_axis = expl_var_ratio[:len(expl_var_ratio)//2]\n",
    "\n",
    "# plot individual ratio\n",
    "plt.figure(figsize=(12,5))\n",
    "plt.bar(x_axis, y_axis, label='Individual explained variance')\n",
    "# plot cumulative ratio\n",
    "plt.step(x_axis, np.cumsum(y_axis), where='mid', label='Cumulative explained variance')\n",
    "\n",
    "# legend, labels, size\n",
    "plt.legend()\n",
    "\n",
    "plt.xticks(x_axis,rotation=90,fontsize=8)\n",
    "plt.ylabel('Explained variance ratio');\n",
    "plt.xlabel('Principal component index (based on sorted eigenvalue)');"
   ]
  },
  {
   "cell_type": "markdown",
   "id": "49ec0441",
   "metadata": {},
   "source": [
    "From the above we can see that with just 10 principal components we are aleady able to explain approximately 90% of the variance in our dataset. We could specify our PCA to cover at least 95% of the explained variance however, this might result in our train, val, and test datasets having different number of features. \n",
    "\n",
    "We will implement the PCA adjustment in SKlearn pca class. The idea is to:\n",
    " - fit the data using the original X_train data\n",
    " - transform both X_train and X_test data using the same PCA parameters"
   ]
  },
  {
   "cell_type": "code",
   "execution_count": 113,
   "id": "cf4d706e",
   "metadata": {},
   "outputs": [],
   "source": [
    "#pca = PCA(n_components = 0.95)\n",
    "pca = PCA(n_components = 15)\n",
    "\n",
    "#transform the train, val and test\n",
    "X_train_pca = pca.fit_transform(X_train)\n",
    "X_val_pca = pca.fit_transform(X_val)\n",
    "X_test_pca = pca.fit_transform(X_test)"
   ]
  },
  {
   "cell_type": "markdown",
   "id": "e633b597",
   "metadata": {},
   "source": [
    "`PCA NOT USED DURING MODEL TRAINING AND PREDICTION`\n",
    "\n",
    "After training the model on the new PCA adjusted features, the validation accuracy dropped by >20%. As such for the final model and prediction on the test dataset, the non-dimensionality dataset was utilized."
   ]
  },
  {
   "cell_type": "markdown",
   "id": "8c2f363a",
   "metadata": {},
   "source": [
    "___"
   ]
  },
  {
   "cell_type": "markdown",
   "id": "d4d28341",
   "metadata": {},
   "source": [
    "# Model Building"
   ]
  },
  {
   "cell_type": "markdown",
   "id": "739d29bd",
   "metadata": {},
   "source": [
    "`Establish a baseline - always predict no default`\n",
    "\n",
    "In order to help judge the usefulness and generalization of our Random Forest model, we should establish a baseline. \n",
    "For the credit default scenario, our baseline will be to predict the most frequently recurring event of either no default or default. As such the baseline accuracy rate we hope our model will beat is the 1-error rate, where error rate is the baseline error we would get if we simply predicted no default for all."
   ]
  },
  {
   "cell_type": "code",
   "execution_count": 24,
   "id": "7ca935e2",
   "metadata": {},
   "outputs": [
    {
     "name": "stdout",
     "output_type": "stream",
     "text": [
      "Baseline Accuracy Rate: 0.7560\n"
     ]
    }
   ],
   "source": [
    "#calculating the baselines accuracy rate to beat \n",
    "rate = 1-(Y_train.value_counts()[1]/Y_train.value_counts().sum())\n",
    "print('Baseline Accuracy Rate: %.4f' %rate)"
   ]
  },
  {
   "cell_type": "markdown",
   "id": "a8fe8ee4",
   "metadata": {},
   "source": [
    "___"
   ]
  },
  {
   "cell_type": "markdown",
   "id": "427b1908",
   "metadata": {},
   "source": [
    "`Singular Decision Tree`\n",
    "\n",
    "To begin, we will train a basic non parametric model using a singular decision tree. Then we will try to improve on this tree using the boosting algorithm. This ensemble classifier will provide a good idea of how useful our random forest will be. "
   ]
  },
  {
   "cell_type": "markdown",
   "id": "c99c941a",
   "metadata": {},
   "source": [
    "The initial formulation of the boosting algorithm (4 key steps):<br>\n",
    " 1. Draw a random sample of training examples, 𝑑𝑑1, without\n",
    "replacement from the training dataset, D, to train a weak learner, 𝐶𝐶1.\n",
    " 2. Draw a second random sample of training examples, 𝑑𝑑2, without replacement from the\n",
    "training dataset and add 50 percent of the examples that were previously\n",
    "misclassified to train a weak learner, 𝐶𝐶2.\n",
    " 3. Find the training examples, 𝑑𝑑3, in the training dataset, D, which 𝐶𝐶1 and 𝐶𝐶2\n",
    "disagree upon, to train a third weak learner, 𝐶𝐶3.\n",
    " 4. Combine the weak learners 𝐶𝐶1, 𝐶𝐶2, and 𝐶𝐶3 via majority voting.\n",
    "\n",
    "An AdaBoost classifier is a meta-estimator that begins by fitting a classifier on the original dataset and then fits additional copies of the classifier on the same dataset but where the weights of incorrectly classified instances are adjusted such that subsequent classifiers focus more on difficult cases.\n",
    "\n",
    "See documentation here: https://scikit-learn.org/stable/modules/generated/sklearn.ensemble.AdaBoostClassifier.html\n",
    "    "
   ]
  },
  {
   "cell_type": "code",
   "execution_count": 91,
   "id": "1f9ad2b7",
   "metadata": {},
   "outputs": [],
   "source": [
    "tree = DecisionTreeClassifier(criterion='entropy', \n",
    "                              max_depth=10)"
   ]
  },
  {
   "cell_type": "code",
   "execution_count": 150,
   "id": "6d58be40",
   "metadata": {},
   "outputs": [],
   "source": [
    "ada = AdaBoostClassifier(estimator=tree,\n",
    "                         n_estimators=50)"
   ]
  },
  {
   "cell_type": "markdown",
   "id": "39bfe65c",
   "metadata": {},
   "source": [
    "Training and evaluating on the test datasets:"
   ]
  },
  {
   "cell_type": "code",
   "execution_count": 166,
   "id": "a7585c1e",
   "metadata": {
    "scrolled": true
   },
   "outputs": [
    {
     "name": "stdout",
     "output_type": "stream",
     "text": [
      "Decision tree train/val accuracies 0.856/0.863\n",
      "CPU times: user 5min 50s, sys: 6.05 s, total: 5min 56s\n",
      "Wall time: 5min 58s\n"
     ]
    }
   ],
   "source": [
    "%%time\n",
    "tree = tree.fit(X_train, Y_train)\n",
    "y_train_pred = tree.predict(X_train)\n",
    "y_val_pred = tree.predict(X_val)\n",
    "\n",
    "tree_train = accuracy_score(Y_train, y_train_pred)\n",
    "tree_val = accuracy_score(Y_val, y_val_pred)\n",
    "print('Decision tree train/val accuracies %.3f/%.3f'% (tree_train, tree_val))"
   ]
  },
  {
   "cell_type": "code",
   "execution_count": null,
   "id": "4ed775a6",
   "metadata": {},
   "outputs": [],
   "source": [
    "%%time\n",
    "ada = ada.fit(X_train, Y_train)\n",
    "y_train_pred = ada.predict(X_train)\n",
    "y_val_pred = ada.predict(X_val)\n",
    "\n",
    "ada_train = accuracy_score(Y_train, y_train_pred) \n",
    "ada_test = accuracy_score(Y_val, y_val_pred) \n",
    "print('AdaBoost train/test accuracies %.3f/%.3f'% (ada_train, ada_test))"
   ]
  },
  {
   "cell_type": "markdown",
   "id": "a85b5bbd",
   "metadata": {},
   "source": [
    "**Note:** *Unable to run the above cell due to size of dataset*"
   ]
  },
  {
   "cell_type": "markdown",
   "id": "fbc9f1b8",
   "metadata": {},
   "source": [
    "___"
   ]
  },
  {
   "cell_type": "markdown",
   "id": "57c3e13f",
   "metadata": {},
   "source": [
    "`Building a random forest`"
   ]
  },
  {
   "cell_type": "markdown",
   "id": "d98eb41f",
   "metadata": {},
   "source": [
    "I will be implementing a **Random Forest model** which is an **ensemble** of decision tree classifiers. It is also a bagging method where deep trees (Decision Trees), fitted on bootstrap samples, are combined to produce an output with lower variance. (bootstrapping is random sampling with replacement from the available training data. Bagging is a bootstrap aggregation where we train an estimator for each bootstrapped dataset)\n",
    "\n",
    "For each decision tree we start at the tree root (contains all data) and split the data on the feature that results in the largest Information Gain (IG).Unlike with a singular decision tree where we might consider pruning the length of our tree, a random forest help protect against overfitting. Why does the random forest model work so well: \n",
    "\n",
    "    A large number of relatively uncorrelated models (trees) operating as a committee will outperform any of the individual constituent models. (Wisdom of the Crowd)\n",
    "\n",
    "\n"
   ]
  },
  {
   "cell_type": "code",
   "execution_count": 154,
   "id": "32e9e44c",
   "metadata": {},
   "outputs": [
    {
     "data": {
      "image/png": "[encoded data removed]",
      "text/plain": [
       "<IPython.core.display.Image object>"
      ]
     },
     "execution_count": 154,
     "metadata": {
      "image/png": {
       "width": 800
      }
     },
     "output_type": "execute_result"
    }
   ],
   "source": [
    "from IPython.display import Image\n",
    "Image('/Users/julian/Documents/MIDS/W207/coursework_2022/final_project/amex-default-prediction/Randomforest.png',\n",
    "      width=800)"
   ]
  },
  {
   "cell_type": "markdown",
   "id": "6b1f98a2",
   "metadata": {},
   "source": [
    "*Why does the random forest not overfit?*\n",
    "\n",
    "Although the individual decision trees within the Random Forest are not pruned, the random forest does not overfit. This is because within Random Forests we can introduce two sources of randomness: \n",
    "\n",
    "1. Bagging: Where each tree is trained on boostrapped samples (with replacements) to make up a unique subset of the training data. \n",
    "2. Attribute sampling: When we define our random forest, we are able to utilize Sklearn's max_features. This means that instead of considering all possible features when potentially splitting a node, only a random subset of features are tested at each node.\n",
    "\n",
    "As such these two characteristics of our random forest ensure the relative independence between the decision trees. This independence corrects the overfitting of the individual decision trees. Consequently, the ensemble is not overfitted.\n"
   ]
  },
  {
   "cell_type": "markdown",
   "id": "6ce926cc",
   "metadata": {},
   "source": [
    "\n",
    "\n"
   ]
  },
  {
   "cell_type": "markdown",
   "id": "b94fab2d",
   "metadata": {},
   "source": [
    "`Building a random forest`"
   ]
  },
  {
   "cell_type": "code",
   "execution_count": 27,
   "id": "6351a899",
   "metadata": {},
   "outputs": [
    {
     "name": "stdout",
     "output_type": "stream",
     "text": [
      "CPU times: user 5min 46s, sys: 1.58 s, total: 5min 47s\n",
      "Wall time: 2min 55s\n"
     ]
    }
   ],
   "source": [
    "%%time\n",
    "random_forest = RandomForestClassifier(criterion='entropy', #function to measure the quality of a feature split\n",
    "                                n_estimators=10, #number of trees in the forest \n",
    "                                bootstrap = True, #different sample for each estimator\n",
    "                                max_samples = 0.6, #max number of samples is 50% of training data\n",
    "                                n_jobs=2) # The number of jobs to run in parallel.\n",
    "clf = random_forest.fit(X_train, Y_train)"
   ]
  },
  {
   "cell_type": "code",
   "execution_count": 28,
   "id": "8e9f0cef",
   "metadata": {},
   "outputs": [],
   "source": [
    "#lets set up some predictions based on our test dataset:\n",
    "y_train_pred_tree = clf.predict(X_train)\n",
    "y_val_pred_tree = clf.predict(X_val)"
   ]
  },
  {
   "cell_type": "code",
   "execution_count": 29,
   "id": "0c6dad13",
   "metadata": {
    "scrolled": false
   },
   "outputs": [
    {
     "name": "stdout",
     "output_type": "stream",
     "text": [
      "Accuracy on Training Data: 0.9724\n",
      "Accuracy on Validation Data: 0.8727\n",
      "Validation Precision score: 0.8360\n",
      "Validation Recall score: 0.8239\n",
      "Validation F1 score 0.8296\n"
     ]
    },
    {
     "data": {
      "image/png": "[encoded data removed]",
      "text/plain": [
       "<Figure size 250x250 with 1 Axes>"
      ]
     },
     "metadata": {},
     "output_type": "display_data"
    }
   ],
   "source": [
    "#lets look at the accuracy of our tree\n",
    "print('Accuracy on Training Data: %.4f' %accuracy_score(Y_train,y_train_pred_tree))\n",
    "print('Accuracy on Validation Data: %.4f' %accuracy_score(Y_val,y_val_pred_tree))\n",
    "print('Validation Precision score: %.4f' % precision_score(Y_val,y_val_pred_tree, average='macro'))\n",
    "print('Validation Recall score: %.4f' % recall_score(Y_val,y_val_pred_tree, average='macro'))\n",
    "print('Validation F1 score %.4f' % f1_score(Y_val,y_val_pred_tree, average='macro'))\n",
    "\n",
    "conf_matrix = confusion_matrix(Y_train,y_train_pred_tree) # confusion_matrix is available in sklearn.metrics\n",
    "confusion_matrix_plot(conf_matrix)"
   ]
  },
  {
   "cell_type": "code",
   "execution_count": 124,
   "id": "407ef1bb",
   "metadata": {},
   "outputs": [
    {
     "data": {
      "text/html": [
       "<div>\n",
       "<style scoped>\n",
       "    .dataframe tbody tr th:only-of-type {\n",
       "        vertical-align: middle;\n",
       "    }\n",
       "\n",
       "    .dataframe tbody tr th {\n",
       "        vertical-align: top;\n",
       "    }\n",
       "\n",
       "    .dataframe thead th {\n",
       "        text-align: right;\n",
       "    }\n",
       "</style>\n",
       "<table border=\"1\" class=\"dataframe\">\n",
       "  <thead>\n",
       "    <tr style=\"text-align: right;\">\n",
       "      <th></th>\n",
       "      <th>Feature</th>\n",
       "      <th>importance</th>\n",
       "    </tr>\n",
       "  </thead>\n",
       "  <tbody>\n",
       "    <tr>\n",
       "      <th>0</th>\n",
       "      <td>P_2</td>\n",
       "      <td>0.062600</td>\n",
       "    </tr>\n",
       "    <tr>\n",
       "      <th>1</th>\n",
       "      <td>B_9</td>\n",
       "      <td>0.047840</td>\n",
       "    </tr>\n",
       "    <tr>\n",
       "      <th>2</th>\n",
       "      <td>B_7</td>\n",
       "      <td>0.041940</td>\n",
       "    </tr>\n",
       "    <tr>\n",
       "      <th>3</th>\n",
       "      <td>D_44</td>\n",
       "      <td>0.039490</td>\n",
       "    </tr>\n",
       "    <tr>\n",
       "      <th>4</th>\n",
       "      <td>B_2</td>\n",
       "      <td>0.033470</td>\n",
       "    </tr>\n",
       "    <tr>\n",
       "      <th>5</th>\n",
       "      <td>D_75</td>\n",
       "      <td>0.024320</td>\n",
       "    </tr>\n",
       "    <tr>\n",
       "      <th>6</th>\n",
       "      <td>B_6</td>\n",
       "      <td>0.022300</td>\n",
       "    </tr>\n",
       "    <tr>\n",
       "      <th>7</th>\n",
       "      <td>B_18</td>\n",
       "      <td>0.022140</td>\n",
       "    </tr>\n",
       "    <tr>\n",
       "      <th>8</th>\n",
       "      <td>D_45</td>\n",
       "      <td>0.020530</td>\n",
       "    </tr>\n",
       "    <tr>\n",
       "      <th>9</th>\n",
       "      <td>S_3</td>\n",
       "      <td>0.016830</td>\n",
       "    </tr>\n",
       "  </tbody>\n",
       "</table>\n",
       "</div>"
      ],
      "text/plain": [
       "  Feature  importance\n",
       "0     P_2    0.062600\n",
       "1     B_9    0.047840\n",
       "2     B_7    0.041940\n",
       "3    D_44    0.039490\n",
       "4     B_2    0.033470\n",
       "5    D_75    0.024320\n",
       "6     B_6    0.022300\n",
       "7    B_18    0.022140\n",
       "8    D_45    0.020530\n",
       "9     S_3    0.016830"
      ]
     },
     "execution_count": 124,
     "metadata": {},
     "output_type": "execute_result"
    }
   ],
   "source": [
    "# Get numerical feature importances\n",
    "importances = list(random_forest.feature_importances_)\n",
    "\n",
    "# List of tuples with variable and importance\n",
    "feature_importances = [(feature, round(importance, 5)) for feature, importance in zip(X_train.columns, importances)]\n",
    "feature_importances = sorted(feature_importances, key = lambda x: x[1], reverse = True)\n",
    "\n",
    "impfeatures = pd.DataFrame(feature_importances[:10], columns =['Feature', 'importance'])\n",
    "impfeatures"
   ]
  },
  {
   "cell_type": "markdown",
   "id": "197a6955",
   "metadata": {},
   "source": [
    "Using the feature_importances attribute from SKlearn we can calculate the impurity-based feature importances. Above I am outputting the top 10 features"
   ]
  },
  {
   "cell_type": "markdown",
   "id": "b0f6d03b",
   "metadata": {},
   "source": [
    "So far our data set looks to be performing quite well, with approx ~96% accuracy on our training data. While it is a good accuracy score, it was tested against the training data on which is was training so it is perhaps to be expected. As such there is some concern that overfitting has occured so we will try to attempt some hyperparameter tuning below. "
   ]
  },
  {
   "cell_type": "markdown",
   "id": "8d88b5a3",
   "metadata": {},
   "source": [
    "## Hyperparameter Tuning"
   ]
  },
  {
   "cell_type": "markdown",
   "id": "422df52e",
   "metadata": {},
   "source": [
    "Using Scikit-Learn’s RandomizedSearchCV method, we can define a grid of hyperparameter ranges, and randomly sample from the grid, performing K-Fold CV with **each combination of values**. Randomized search on hyper parameters, unlike the regular gridsearchCV"
   ]
  },
  {
   "cell_type": "code",
   "execution_count": 31,
   "id": "9432abfd",
   "metadata": {
    "scrolled": false
   },
   "outputs": [
    {
     "data": {
      "text/plain": [
       "{'bootstrap': True,\n",
       " 'ccp_alpha': 0.0,\n",
       " 'class_weight': None,\n",
       " 'criterion': 'entropy',\n",
       " 'max_depth': None,\n",
       " 'max_features': 'sqrt',\n",
       " 'max_leaf_nodes': None,\n",
       " 'max_samples': 0.6,\n",
       " 'min_impurity_decrease': 0.0,\n",
       " 'min_samples_leaf': 1,\n",
       " 'min_samples_split': 2,\n",
       " 'min_weight_fraction_leaf': 0.0,\n",
       " 'n_estimators': 10,\n",
       " 'n_jobs': 2,\n",
       " 'oob_score': False,\n",
       " 'random_state': None,\n",
       " 'verbose': 0,\n",
       " 'warm_start': False}"
      ]
     },
     "execution_count": 31,
     "metadata": {},
     "output_type": "execute_result"
    }
   ],
   "source": [
    "#first lets look at all the parameters which we have available to tune\n",
    "random_forest.get_params()"
   ]
  },
  {
   "cell_type": "markdown",
   "id": "5bc07e9d",
   "metadata": {},
   "source": [
    "From looking at the available parameters there are several which stand out: \n",
    "* max_features which is the max number of features considered at each tree split. Since we didnt specify this when intiating our RF classifier, the default is SQRT. Which is approx 12/13. So this is something we can try tune\n",
    "* max_depth which is how many levels of branches we have in our model. Wasnt specified earlier so then nodes are expanded until all leaves are pure or until\n",
    "* Max_samples number of samples to draw from X, to train the estimators\n",
    "* min_samples_split - decides the minimum number of samples required to split an internal node. Default value =2. issue with 2 is that the condition is checked on the terminal node. If the data points in the node exceed the value 2, then further splitting takes place. Whereas if a more lenient value like 6 is set, then the splitting will stop early and the decision tree wont overfit on the data.\n",
    "* min_samples_leaf - If after a split the data points in a node goes under the min_sample_leaf number, the split won’t go through and will be stopped at the parent node."
   ]
  },
  {
   "cell_type": "markdown",
   "id": "069ee5c6",
   "metadata": {},
   "source": [
    "From the above we can see that there are many parameters which we can try and tune using cross validation as well. \n",
    "\n",
    "Note: The parameters selected are those that maximize the score of the held-out data, according to the scoring parameter.\n",
    "\n",
    "Refer to the documentation: https://scikit-learn.org/stable/modules/generated/sklearn.model_selection.RandomizedSearchCV.html\n",
    "\n",
    "According to the documentation, the grid which we want to create is a dictionary type"
   ]
  },
  {
   "cell_type": "code",
   "execution_count": 32,
   "id": "8c9e578e",
   "metadata": {},
   "outputs": [],
   "source": [
    "criterion = ['entropy'] #what will be used to choose features at node splits\n",
    "n_estimators = [i for i in range(10,18,2)] # number of trees in the random forest\n",
    "bootstrap = [True] # drawing samples from our source data with replacement\n",
    "max_samples = [i/10 for i in range(2,10,2)] #percentage of training samples to train each tree with\n",
    "n_jobs=[-1]\n",
    "max_features = ['sqrt']  #could add in 'log2' but took too long\n",
    "max_depth = [i for i in range(110,160,10)] #max amount of layers in a tree\n",
    "max_depth.append(None)  #if None, then nodes are expanded until all leaves are pure\n",
    "min_samples_split = [2, 6, 10] # minimum sample number to split a node, need at least two to split\n",
    "min_samples_leaf = [1,2, 3] # A split point at any depth will only be considered if it leaves at least \n",
    "                             #min_samples_leaf training samples in each of the left and right branches.\n",
    "                              #This may have the effect of smoothing the model, especially in regression\n",
    "\n",
    "random_grid = { 'criterion' : criterion, \n",
    "               'n_estimators' : n_estimators, \n",
    "               'bootstrap' : bootstrap,\n",
    "               'max_samples' : max_samples,\n",
    "               'n_jobs' : n_jobs,\n",
    "               'max_features' : max_features, \n",
    "               'max_depth' : max_depth, \n",
    "               'min_samples_split': min_samples_split,\n",
    "               'min_samples_leaf' : min_samples_leaf\n",
    "              }"
   ]
  },
  {
   "cell_type": "code",
   "execution_count": 33,
   "id": "4195e36b",
   "metadata": {},
   "outputs": [
    {
     "name": "stdout",
     "output_type": "stream",
     "text": [
      "Fitting 3 folds for each of 8 candidates, totalling 24 fits\n",
      "CPU times: user 21min 23s, sys: 2min 17s, total: 23min 40s\n",
      "Wall time: 12h 50min 54s\n"
     ]
    },
    {
     "data": {
      "text/html": [
       "<style>#sk-container-id-1 {color: black;background-color: white;}#sk-container-id-1 pre{padding: 0;}#sk-container-id-1 div.sk-toggleable {background-color: white;}#sk-container-id-1 label.sk-toggleable__label {cursor: pointer;display: block;width: 100%;margin-bottom: 0;padding: 0.3em;box-sizing: border-box;text-align: center;}#sk-container-id-1 label.sk-toggleable__label-arrow:before {content: \"▸\";float: left;margin-right: 0.25em;color: #696969;}#sk-container-id-1 label.sk-toggleable__label-arrow:hover:before {color: black;}#sk-container-id-1 div.sk-estimator:hover label.sk-toggleable__label-arrow:before {color: black;}#sk-container-id-1 div.sk-toggleable__content {max-height: 0;max-width: 0;overflow: hidden;text-align: left;background-color: #f0f8ff;}#sk-container-id-1 div.sk-toggleable__content pre {margin: 0.2em;color: black;border-radius: 0.25em;background-color: #f0f8ff;}#sk-container-id-1 input.sk-toggleable__control:checked~div.sk-toggleable__content {max-height: 200px;max-width: 100%;overflow: auto;}#sk-container-id-1 input.sk-toggleable__control:checked~label.sk-toggleable__label-arrow:before {content: \"▾\";}#sk-container-id-1 div.sk-estimator input.sk-toggleable__control:checked~label.sk-toggleable__label {background-color: #d4ebff;}#sk-container-id-1 div.sk-label input.sk-toggleable__control:checked~label.sk-toggleable__label {background-color: #d4ebff;}#sk-container-id-1 input.sk-hidden--visually {border: 0;clip: rect(1px 1px 1px 1px);clip: rect(1px, 1px, 1px, 1px);height: 1px;margin: -1px;overflow: hidden;padding: 0;position: absolute;width: 1px;}#sk-container-id-1 div.sk-estimator {font-family: monospace;background-color: #f0f8ff;border: 1px dotted black;border-radius: 0.25em;box-sizing: border-box;margin-bottom: 0.5em;}#sk-container-id-1 div.sk-estimator:hover {background-color: #d4ebff;}#sk-container-id-1 div.sk-parallel-item::after {content: \"\";width: 100%;border-bottom: 1px solid gray;flex-grow: 1;}#sk-container-id-1 div.sk-label:hover label.sk-toggleable__label {background-color: #d4ebff;}#sk-container-id-1 div.sk-serial::before {content: \"\";position: absolute;border-left: 1px solid gray;box-sizing: border-box;top: 0;bottom: 0;left: 50%;z-index: 0;}#sk-container-id-1 div.sk-serial {display: flex;flex-direction: column;align-items: center;background-color: white;padding-right: 0.2em;padding-left: 0.2em;position: relative;}#sk-container-id-1 div.sk-item {position: relative;z-index: 1;}#sk-container-id-1 div.sk-parallel {display: flex;align-items: stretch;justify-content: center;background-color: white;position: relative;}#sk-container-id-1 div.sk-item::before, #sk-container-id-1 div.sk-parallel-item::before {content: \"\";position: absolute;border-left: 1px solid gray;box-sizing: border-box;top: 0;bottom: 0;left: 50%;z-index: -1;}#sk-container-id-1 div.sk-parallel-item {display: flex;flex-direction: column;z-index: 1;position: relative;background-color: white;}#sk-container-id-1 div.sk-parallel-item:first-child::after {align-self: flex-end;width: 50%;}#sk-container-id-1 div.sk-parallel-item:last-child::after {align-self: flex-start;width: 50%;}#sk-container-id-1 div.sk-parallel-item:only-child::after {width: 0;}#sk-container-id-1 div.sk-dashed-wrapped {border: 1px dashed gray;margin: 0 0.4em 0.5em 0.4em;box-sizing: border-box;padding-bottom: 0.4em;background-color: white;}#sk-container-id-1 div.sk-label label {font-family: monospace;font-weight: bold;display: inline-block;line-height: 1.2em;}#sk-container-id-1 div.sk-label-container {text-align: center;}#sk-container-id-1 div.sk-container {/* jupyter's `normalize.less` sets `[hidden] { display: none; }` but bootstrap.min.css set `[hidden] { display: none !important; }` so we also need the `!important` here to be able to override the default hidden behavior on the sphinx rendered scikit-learn.org. See: https://github.com/scikit-learn/scikit-learn/issues/21755 */display: inline-block !important;position: relative;}#sk-container-id-1 div.sk-text-repr-fallback {display: none;}</style><div id=\"sk-container-id-1\" class=\"sk-top-container\"><div class=\"sk-text-repr-fallback\"><pre>RandomizedSearchCV(cv=3, estimator=RandomForestClassifier(), n_iter=8,\n",
       "                   param_distributions={&#x27;bootstrap&#x27;: [True],\n",
       "                                        &#x27;criterion&#x27;: [&#x27;entropy&#x27;],\n",
       "                                        &#x27;max_depth&#x27;: [110, 120, 130, 140, 150,\n",
       "                                                      None],\n",
       "                                        &#x27;max_features&#x27;: [&#x27;sqrt&#x27;],\n",
       "                                        &#x27;max_samples&#x27;: [0.2, 0.4, 0.6, 0.8],\n",
       "                                        &#x27;min_samples_leaf&#x27;: [1, 2, 3],\n",
       "                                        &#x27;min_samples_split&#x27;: [2, 6, 10],\n",
       "                                        &#x27;n_estimators&#x27;: [10, 12, 14, 16],\n",
       "                                        &#x27;n_jobs&#x27;: [-1]},\n",
       "                   return_train_score=True, verbose=1)</pre><b>In a Jupyter environment, please rerun this cell to show the HTML representation or trust the notebook. <br />On GitHub, the HTML representation is unable to render, please try loading this page with nbviewer.org.</b></div><div class=\"sk-container\" hidden><div class=\"sk-item sk-dashed-wrapped\"><div class=\"sk-label-container\"><div class=\"sk-label sk-toggleable\"><input class=\"sk-toggleable__control sk-hidden--visually\" id=\"sk-estimator-id-1\" type=\"checkbox\" ><label for=\"sk-estimator-id-1\" class=\"sk-toggleable__label sk-toggleable__label-arrow\">RandomizedSearchCV</label><div class=\"sk-toggleable__content\"><pre>RandomizedSearchCV(cv=3, estimator=RandomForestClassifier(), n_iter=8,\n",
       "                   param_distributions={&#x27;bootstrap&#x27;: [True],\n",
       "                                        &#x27;criterion&#x27;: [&#x27;entropy&#x27;],\n",
       "                                        &#x27;max_depth&#x27;: [110, 120, 130, 140, 150,\n",
       "                                                      None],\n",
       "                                        &#x27;max_features&#x27;: [&#x27;sqrt&#x27;],\n",
       "                                        &#x27;max_samples&#x27;: [0.2, 0.4, 0.6, 0.8],\n",
       "                                        &#x27;min_samples_leaf&#x27;: [1, 2, 3],\n",
       "                                        &#x27;min_samples_split&#x27;: [2, 6, 10],\n",
       "                                        &#x27;n_estimators&#x27;: [10, 12, 14, 16],\n",
       "                                        &#x27;n_jobs&#x27;: [-1]},\n",
       "                   return_train_score=True, verbose=1)</pre></div></div></div><div class=\"sk-parallel\"><div class=\"sk-parallel-item\"><div class=\"sk-item\"><div class=\"sk-label-container\"><div class=\"sk-label sk-toggleable\"><input class=\"sk-toggleable__control sk-hidden--visually\" id=\"sk-estimator-id-2\" type=\"checkbox\" ><label for=\"sk-estimator-id-2\" class=\"sk-toggleable__label sk-toggleable__label-arrow\">estimator: RandomForestClassifier</label><div class=\"sk-toggleable__content\"><pre>RandomForestClassifier()</pre></div></div></div><div class=\"sk-serial\"><div class=\"sk-item\"><div class=\"sk-estimator sk-toggleable\"><input class=\"sk-toggleable__control sk-hidden--visually\" id=\"sk-estimator-id-3\" type=\"checkbox\" ><label for=\"sk-estimator-id-3\" class=\"sk-toggleable__label sk-toggleable__label-arrow\">RandomForestClassifier</label><div class=\"sk-toggleable__content\"><pre>RandomForestClassifier()</pre></div></div></div></div></div></div></div></div></div></div>"
      ],
      "text/plain": [
       "RandomizedSearchCV(cv=3, estimator=RandomForestClassifier(), n_iter=8,\n",
       "                   param_distributions={'bootstrap': [True],\n",
       "                                        'criterion': ['entropy'],\n",
       "                                        'max_depth': [110, 120, 130, 140, 150,\n",
       "                                                      None],\n",
       "                                        'max_features': ['sqrt'],\n",
       "                                        'max_samples': [0.2, 0.4, 0.6, 0.8],\n",
       "                                        'min_samples_leaf': [1, 2, 3],\n",
       "                                        'min_samples_split': [2, 6, 10],\n",
       "                                        'n_estimators': [10, 12, 14, 16],\n",
       "                                        'n_jobs': [-1]},\n",
       "                   return_train_score=True, verbose=1)"
      ]
     },
     "execution_count": 33,
     "metadata": {},
     "output_type": "execute_result"
    }
   ],
   "source": [
    "%%time\n",
    "#first we need to initiate a new base tree estimator \n",
    "base_tree =  RandomForestClassifier()\n",
    "\n",
    "#initialize the random search CV hyperparameter tuner\n",
    "Random_Forest_HyperTuned = RandomizedSearchCV(estimator = base_tree,\n",
    "                                              param_distributions = random_grid,#params defines above\n",
    "                                              n_iter = 8, #Number of parameter settings that are sampled from distribution define above\n",
    "                                              cv = 3, #default is5-fold cross validation, so we will have 30 trees\n",
    "                                              verbose = 1, #the higher, the more messages\n",
    "                                              return_train_score = True # attribute will include training scores\n",
    "                                             )\n",
    "#now we need to train the model using our training data and labels\n",
    "Random_Forest_HyperTuned.fit(X_train,Y_train)"
   ]
  },
  {
   "cell_type": "markdown",
   "id": "44f53903",
   "metadata": {},
   "source": [
    "*Note: in the above model we set n_iter to 8 and our cross validation to 3. This means that we will have 8 randomly sampling parameter settings (from our predefined distributions) resulting in 8 unique trees. Each of these trees will be trained/fitted on 3 different sets of bootstrapped training datasets. Resulting in 24 esitmators*\n",
    "\n",
    "Now that we have ran the hyperparameter tuning, we can pull out the best supposed parameters used. \n",
    "\n"
   ]
  },
  {
   "cell_type": "code",
   "execution_count": 109,
   "id": "84c8d3d9",
   "metadata": {
    "scrolled": true
   },
   "outputs": [
    {
     "data": {
      "text/plain": [
       "{'n_jobs': -1,\n",
       " 'n_estimators': 16,\n",
       " 'min_samples_split': 2,\n",
       " 'min_samples_leaf': 3,\n",
       " 'max_samples': 0.8,\n",
       " 'max_features': 'sqrt',\n",
       " 'max_depth': 150,\n",
       " 'criterion': 'entropy',\n",
       " 'bootstrap': True}"
      ]
     },
     "execution_count": 109,
     "metadata": {},
     "output_type": "execute_result"
    }
   ],
   "source": [
    "Random_Forest_HyperTuned.best_params_"
   ]
  },
  {
   "cell_type": "markdown",
   "id": "478352b2",
   "metadata": {},
   "source": [
    "Lets look at the feature importances on the final/best estimator:"
   ]
  },
  {
   "cell_type": "code",
   "execution_count": null,
   "id": "87ea4aa6",
   "metadata": {},
   "outputs": [],
   "source": [
    "best_RF = Random_Forest_HyperTuned.best_estimator_"
   ]
  },
  {
   "cell_type": "code",
   "execution_count": 162,
   "id": "dd17dd71",
   "metadata": {},
   "outputs": [
    {
     "data": {
      "text/html": [
       "<div>\n",
       "<style scoped>\n",
       "    .dataframe tbody tr th:only-of-type {\n",
       "        vertical-align: middle;\n",
       "    }\n",
       "\n",
       "    .dataframe tbody tr th {\n",
       "        vertical-align: top;\n",
       "    }\n",
       "\n",
       "    .dataframe thead th {\n",
       "        text-align: right;\n",
       "    }\n",
       "</style>\n",
       "<table border=\"1\" class=\"dataframe\">\n",
       "  <thead>\n",
       "    <tr style=\"text-align: right;\">\n",
       "      <th></th>\n",
       "      <th>Feature</th>\n",
       "      <th>importance</th>\n",
       "    </tr>\n",
       "  </thead>\n",
       "  <tbody>\n",
       "    <tr>\n",
       "      <th>0</th>\n",
       "      <td>P_2</td>\n",
       "      <td>0.076980</td>\n",
       "    </tr>\n",
       "    <tr>\n",
       "      <th>1</th>\n",
       "      <td>D_44</td>\n",
       "      <td>0.038740</td>\n",
       "    </tr>\n",
       "    <tr>\n",
       "      <th>2</th>\n",
       "      <td>D_48</td>\n",
       "      <td>0.032910</td>\n",
       "    </tr>\n",
       "    <tr>\n",
       "      <th>3</th>\n",
       "      <td>D_45</td>\n",
       "      <td>0.029680</td>\n",
       "    </tr>\n",
       "    <tr>\n",
       "      <th>4</th>\n",
       "      <td>D_61</td>\n",
       "      <td>0.027010</td>\n",
       "    </tr>\n",
       "    <tr>\n",
       "      <th>5</th>\n",
       "      <td>B_20</td>\n",
       "      <td>0.025950</td>\n",
       "    </tr>\n",
       "    <tr>\n",
       "      <th>6</th>\n",
       "      <td>B_3</td>\n",
       "      <td>0.021830</td>\n",
       "    </tr>\n",
       "    <tr>\n",
       "      <th>7</th>\n",
       "      <td>B_2</td>\n",
       "      <td>0.020580</td>\n",
       "    </tr>\n",
       "    <tr>\n",
       "      <th>8</th>\n",
       "      <td>B_10</td>\n",
       "      <td>0.019860</td>\n",
       "    </tr>\n",
       "    <tr>\n",
       "      <th>9</th>\n",
       "      <td>B_18</td>\n",
       "      <td>0.018480</td>\n",
       "    </tr>\n",
       "  </tbody>\n",
       "</table>\n",
       "</div>"
      ],
      "text/plain": [
       "  Feature  importance\n",
       "0     P_2    0.076980\n",
       "1    D_44    0.038740\n",
       "2    D_48    0.032910\n",
       "3    D_45    0.029680\n",
       "4    D_61    0.027010\n",
       "5    B_20    0.025950\n",
       "6     B_3    0.021830\n",
       "7     B_2    0.020580\n",
       "8    B_10    0.019860\n",
       "9    B_18    0.018480"
      ]
     },
     "execution_count": 162,
     "metadata": {},
     "output_type": "execute_result"
    }
   ],
   "source": [
    "# Get numerical feature importances\n",
    "importances = list(best_RF.feature_importances_)\n",
    "\n",
    "# List of tuples with variable and importance\n",
    "feature_importances = [(feature, round(importance, 5)) for feature, importance in zip(X_train.columns, importances)]\n",
    "feature_importances = sorted(feature_importances, key = lambda x: x[1], reverse = True)\n",
    "\n",
    "impfeatures = pd.DataFrame(feature_importances[:10], columns =['Feature', 'importance'])\n",
    "impfeatures"
   ]
  },
  {
   "cell_type": "code",
   "execution_count": 35,
   "id": "4db30489",
   "metadata": {},
   "outputs": [],
   "source": [
    "#generate predictions\n",
    "y_pred_train = best_RF.predict(X_train)\n",
    "y_pred_val = best_RF.predict(X_val)"
   ]
  },
  {
   "cell_type": "code",
   "execution_count": 36,
   "id": "09e9bb00",
   "metadata": {},
   "outputs": [
    {
     "name": "stdout",
     "output_type": "stream",
     "text": [
      "Accuracy on Training Data: 0.9836\n",
      "Accuracy on Validation Data: 0.8817\n",
      "Validation Precision score: 0.8415\n",
      "Validation Recall score: 0.8532\n",
      "Validation F1 score 0.8471\n"
     ]
    },
    {
     "data": {
      "image/png": "[encoded data removed]",
      "text/plain": [
       "<Figure size 250x250 with 1 Axes>"
      ]
     },
     "metadata": {},
     "output_type": "display_data"
    }
   ],
   "source": [
    "#lets look at the accuracy of our tree\n",
    "print('Accuracy on Training Data: %.4f' %accuracy_score(Y_train,y_pred_train))\n",
    "print('Accuracy on Validation Data: %.4f' %accuracy_score(Y_val,y_pred_val))\n",
    "print('Validation Precision score: %.4f' % precision_score(Y_val,y_pred_val, average='macro'))\n",
    "print('Validation Recall score: %.4f' % recall_score(Y_val,y_pred_val, average='macro'))\n",
    "print('Validation F1 score %.4f' % f1_score(Y_val,y_pred_val, average='macro'))\n",
    "\n",
    "confusion_matrix(Y_train,y_train_pred_tree) # confusion_matrix is available in sklearn.metrics\n",
    "confusion_matrix_plot(conf_matrix)"
   ]
  },
  {
   "cell_type": "markdown",
   "id": "7e65149e",
   "metadata": {},
   "source": [
    "Above we used the RandomizedSearchCV which in contrast to GridSearchCV, not all parameter values are tried out, but rather a fixed number of parameter settings is sampled from the specified distributions. \n",
    "\n",
    "Thus we can say the randomsearch gave us insight on values we can focus in on. With the gridsearch we will actually test all combination of the parameter dictionary, Grid search is used after randomised search to narrow down the range to search the perfect hyperparameters."
   ]
  },
  {
   "cell_type": "code",
   "execution_count": 107,
   "id": "9cd50382",
   "metadata": {},
   "outputs": [],
   "source": [
    "#given more computing power I would try more options below\n",
    "random_grid_RandSearch = {'n_jobs': [-1],\n",
    "               'n_estimators': [14,15,16],\n",
    "               'min_samples_split': [2,3,4,5],\n",
    "               'min_samples_leaf': [2,3,4,5],\n",
    "               'max_samples': [0.4,0.5,0.6],\n",
    "               'max_features': ['sqrt'],\n",
    "               'max_depth': [125,130,135], #given more \n",
    "               'criterion': ['entropy'],\n",
    "               'bootstrap': [True]}"
   ]
  },
  {
   "cell_type": "code",
   "execution_count": null,
   "id": "9a82760c",
   "metadata": {},
   "outputs": [],
   "source": [
    "%%time\n",
    "#first we need to initiate our final base tree estimator \n",
    "final_tree =  RandomForestClassifier()\n",
    "\n",
    "#initialize our GridSearch object to finalize the hyperparameters\n",
    "Final_Random_Forest = GridSearchCV(estimator = final_tree, \n",
    "                                   param_grid = random_grid_RandSearch,\n",
    "                                   cv = 3, \n",
    "                                   n_jobs = -1, \n",
    "                                   verbose = 2\n",
    "                                  )\n",
    "\n",
    "#now we need to train the model using our training data and labels\n",
    "Final_Random_Forest.fit(X_train,Y_train)"
   ]
  },
  {
   "cell_type": "markdown",
   "id": "968ccea8",
   "metadata": {},
   "source": [
    "### Note: \n",
    "The above two cells (given my computing power) would not run. As such I will continue with the random forest hyperparameters according to the RandomizedSearchCV"
   ]
  },
  {
   "cell_type": "markdown",
   "id": "ca660a88",
   "metadata": {},
   "source": [
    "### Save the model "
   ]
  },
  {
   "cell_type": "code",
   "execution_count": 37,
   "id": "84342e50",
   "metadata": {},
   "outputs": [],
   "source": [
    "# save the model to disk, from pickle library\n",
    "filename = 'finalized_model.sav'"
   ]
  },
  {
   "cell_type": "code",
   "execution_count": 38,
   "id": "0cdfc8df",
   "metadata": {},
   "outputs": [],
   "source": [
    "pickle.dump(best_RF, open(filename, 'wb'))"
   ]
  },
  {
   "cell_type": "markdown",
   "id": "3feae68f",
   "metadata": {},
   "source": [
    "### Reload the model"
   ]
  },
  {
   "cell_type": "code",
   "execution_count": 39,
   "id": "c48169bc",
   "metadata": {},
   "outputs": [],
   "source": [
    "# load the model from disk\n",
    "loaded_model = pickle.load(open(filename, 'rb'))\n",
    "#result = loaded_model.score(X_test, Y_test)\n",
    "#print(result)"
   ]
  },
  {
   "cell_type": "markdown",
   "id": "86e46d12",
   "metadata": {},
   "source": [
    "## Performance Evaluation on Test Dataset"
   ]
  },
  {
   "cell_type": "code",
   "execution_count": 40,
   "id": "6bdba1cc",
   "metadata": {},
   "outputs": [],
   "source": [
    "#generate predictions\n",
    "y_pred_test = best_RF.predict(X_test)"
   ]
  },
  {
   "cell_type": "code",
   "execution_count": 41,
   "id": "f5154159",
   "metadata": {},
   "outputs": [
    {
     "name": "stdout",
     "output_type": "stream",
     "text": [
      "Accuracy on Test Data: 0.8829\n",
      "Test Precision score: 0.8422\n",
      "Test Recall score: 0.8641\n",
      "Test F1 score 0.8520\n"
     ]
    },
    {
     "data": {
      "image/png": "[encoded data removed]",
      "text/plain": [
       "<Figure size 250x250 with 1 Axes>"
      ]
     },
     "metadata": {},
     "output_type": "display_data"
    }
   ],
   "source": [
    "#lets look at the accuracy of our tree\n",
    "print('Accuracy on Test Data: %.4f' %accuracy_score(Y_test,y_pred_test))\n",
    "print('Test Precision score: %.4f' % precision_score(Y_test,y_pred_test, average='macro'))\n",
    "print('Test Recall score: %.4f' % recall_score(Y_test,y_pred_test, average='macro'))\n",
    "print('Test F1 score %.4f' % f1_score(Y_test,y_pred_test, average='macro'))\n",
    "\n",
    "confusion_matrix(Y_train,y_train_pred_tree) # confusion_matrix is available in sklearn.metrics\n",
    "confusion_matrix_plot(conf_matrix)"
   ]
  },
  {
   "cell_type": "markdown",
   "id": "75defd06",
   "metadata": {},
   "source": [
    "Visualize the result of our random forest vs intial base tree: \n",
    "* ROC curves should be used when there are roughly equal numbers of observations for each class.\n",
    "* Precision-Recall curves should be used when there is a moderate to large class imbalance.\n",
    "\n",
    "*Given our data classes are faily imbalanced lets visualize the Precision Recall Curve*. The precision-recall curve shows the tradeoff between precision and recall for different threshold. A high area under the curve represents both high recall and high precision, where high precision relates to a low false positive rate, and high recall relates to a low false negative rate. High scores for both show that the classifier is returning accurate results (high precision), as well as returning a majority of all positive results (high recall).\n",
    "\n"
   ]
  },
  {
   "cell_type": "code",
   "execution_count": 103,
   "id": "7a882f19",
   "metadata": {},
   "outputs": [
    {
     "data": {
      "text/plain": [
       "Text(0.5, 1.0, 'Precision-Recall Curve')"
      ]
     },
     "execution_count": 103,
     "metadata": {},
     "output_type": "execute_result"
    },
    {
     "data": {
      "image/png": "[encoded data removed]",
      "text/plain": [
       "<Figure size 600x400 with 1 Axes>"
      ]
     },
     "metadata": {},
     "output_type": "display_data"
    }
   ],
   "source": [
    "fig, ax = plt.subplots(1, 1, figsize=(6,4))\n",
    "PrecisionRecallDisplay.from_estimator(tree, X_test, Y_test, drawstyle=\"default\", ax = ax)\n",
    "PrecisionRecallDisplay.from_estimator(Random_Forest_HyperTuned, X_test, Y_test,drawstyle=\"default\", ax = ax)\n",
    "plt.title('Precision-Recall Curve')\n"
   ]
  },
  {
   "cell_type": "markdown",
   "id": "115f4ded",
   "metadata": {},
   "source": [
    "___"
   ]
  },
  {
   "cell_type": "markdown",
   "id": "28733841",
   "metadata": {},
   "source": [
    "## Create the Kaggle Predictions and Submission File "
   ]
  },
  {
   "cell_type": "code",
   "execution_count": 42,
   "id": "5af90bca",
   "metadata": {},
   "outputs": [
    {
     "data": {
      "text/plain": [
       "(11363762, 190)"
      ]
     },
     "execution_count": 42,
     "metadata": {},
     "output_type": "execute_result"
    }
   ],
   "source": [
    "kaggle_test_features = pd.read_feather('test_data.ftr')\n",
    "cust_IDS = kaggle_test_features['customer_ID']\n",
    "kaggle_test_features.shape"
   ]
  },
  {
   "cell_type": "code",
   "execution_count": 5,
   "id": "2e841bd3",
   "metadata": {},
   "outputs": [],
   "source": [
    "#define a function to preprocess kaggle test dataset\n",
    "def data_preprocessing(df):\n",
    "    df.pop('customer_ID')\n",
    "    df.pop('S_2')\n",
    "\n",
    "    del_cols = ['D_42', 'D_49', 'D_50', 'D_53', 'D_56', 'S_9', 'B_17', 'D_66', 'D_73', 'D_76', \n",
    "            'D_77', 'R_9', 'D_82', 'B_29', 'D_87', 'D_88', 'D_105', 'D_106', 'R_26', 'D_108',\n",
    "            'D_110', 'D_111', 'B_39', 'B_42', 'D_132', 'D_134', 'D_135', 'D_136', 'D_137', 'D_138', 'D_142']\n",
    "\n",
    "    for i in del_cols: \n",
    "        df.pop(i)\n",
    "\n",
    "    B_38_mapping = {label: idx for idx, label in enumerate(np.unique(df['B_38']))}\n",
    "    df['B_38'] = df['B_38'].map(B_38_mapping)\n",
    "\n",
    "    df.pop('D_117')\n",
    "    df.pop('D_126')\n",
    "    df.pop('D_64')\n",
    "\n",
    "    columnTransformer = ColumnTransformer([('encoder', OneHotEncoder(), [45])], remainder='passthrough')\n",
    "    df = columnTransformer.fit_transform(df)\n",
    "\n",
    "    imp=SimpleImputer(missing_values=np.NaN)\n",
    "    df=pd.DataFrame(imp.fit_transform(df))\n",
    "\n",
    "    return df"
   ]
  },
  {
   "cell_type": "code",
   "execution_count": 6,
   "id": "b3e70422",
   "metadata": {},
   "outputs": [
    {
     "name": "stdout",
     "output_type": "stream",
     "text": [
      "CPU times: user 54.4 s, sys: 2min 5s, total: 3min\n",
      "Wall time: 6min 45s\n"
     ]
    }
   ],
   "source": [
    "%%time\n",
    "#run our test dataset through the preprocessing function\n",
    "kaggle_test_features = data_preprocessing(kaggle_test_features)"
   ]
  },
  {
   "cell_type": "code",
   "execution_count": 9,
   "id": "d9ba4bef",
   "metadata": {
    "scrolled": true
   },
   "outputs": [
    {
     "data": {
      "text/html": [
       "<div>\n",
       "<style scoped>\n",
       "    .dataframe tbody tr th:only-of-type {\n",
       "        vertical-align: middle;\n",
       "    }\n",
       "\n",
       "    .dataframe tbody tr th {\n",
       "        vertical-align: top;\n",
       "    }\n",
       "\n",
       "    .dataframe thead th {\n",
       "        text-align: right;\n",
       "    }\n",
       "</style>\n",
       "<table border=\"1\" class=\"dataframe\">\n",
       "  <thead>\n",
       "    <tr style=\"text-align: right;\">\n",
       "      <th></th>\n",
       "      <th>0</th>\n",
       "      <th>1</th>\n",
       "      <th>2</th>\n",
       "      <th>3</th>\n",
       "      <th>4</th>\n",
       "      <th>5</th>\n",
       "      <th>6</th>\n",
       "      <th>7</th>\n",
       "      <th>8</th>\n",
       "      <th>9</th>\n",
       "      <th>...</th>\n",
       "      <th>149</th>\n",
       "      <th>150</th>\n",
       "      <th>151</th>\n",
       "      <th>152</th>\n",
       "      <th>153</th>\n",
       "      <th>154</th>\n",
       "      <th>155</th>\n",
       "      <th>156</th>\n",
       "      <th>157</th>\n",
       "      <th>158</th>\n",
       "    </tr>\n",
       "  </thead>\n",
       "  <tbody>\n",
       "    <tr>\n",
       "      <th>0</th>\n",
       "      <td>0.000000</td>\n",
       "      <td>0.000000</td>\n",
       "      <td>1.000000</td>\n",
       "      <td>0.000000</td>\n",
       "      <td>0.000000</td>\n",
       "      <td>0.000000</td>\n",
       "      <td>0.631348</td>\n",
       "      <td>0.001912</td>\n",
       "      <td>0.010727</td>\n",
       "      <td>0.814453</td>\n",
       "      <td>...</td>\n",
       "      <td>0.226801</td>\n",
       "      <td>0.123327</td>\n",
       "      <td>0.007080</td>\n",
       "      <td>0.005959</td>\n",
       "      <td>0.179609</td>\n",
       "      <td>0.004669</td>\n",
       "      <td>0.165575</td>\n",
       "      <td>0.179486</td>\n",
       "      <td>0.008278</td>\n",
       "      <td>0.063776</td>\n",
       "    </tr>\n",
       "    <tr>\n",
       "      <th>1</th>\n",
       "      <td>0.000000</td>\n",
       "      <td>0.000000</td>\n",
       "      <td>1.000000</td>\n",
       "      <td>0.000000</td>\n",
       "      <td>0.000000</td>\n",
       "      <td>0.000000</td>\n",
       "      <td>0.586914</td>\n",
       "      <td>0.005276</td>\n",
       "      <td>0.011024</td>\n",
       "      <td>0.811035</td>\n",
       "      <td>...</td>\n",
       "      <td>0.007599</td>\n",
       "      <td>0.008072</td>\n",
       "      <td>0.007187</td>\n",
       "      <td>0.001253</td>\n",
       "      <td>0.000142</td>\n",
       "      <td>0.004940</td>\n",
       "      <td>0.009018</td>\n",
       "      <td>0.003695</td>\n",
       "      <td>0.003754</td>\n",
       "      <td>0.001460</td>\n",
       "    </tr>\n",
       "    <tr>\n",
       "      <th>2</th>\n",
       "      <td>0.000000</td>\n",
       "      <td>0.000000</td>\n",
       "      <td>1.000000</td>\n",
       "      <td>0.000000</td>\n",
       "      <td>0.000000</td>\n",
       "      <td>0.000000</td>\n",
       "      <td>0.608887</td>\n",
       "      <td>0.003326</td>\n",
       "      <td>0.016388</td>\n",
       "      <td>1.004883</td>\n",
       "      <td>...</td>\n",
       "      <td>0.003609</td>\n",
       "      <td>0.009865</td>\n",
       "      <td>0.008438</td>\n",
       "      <td>0.001924</td>\n",
       "      <td>0.000074</td>\n",
       "      <td>0.002113</td>\n",
       "      <td>0.004658</td>\n",
       "      <td>0.003155</td>\n",
       "      <td>0.002155</td>\n",
       "      <td>0.006481</td>\n",
       "    </tr>\n",
       "    <tr>\n",
       "      <th>3</th>\n",
       "      <td>0.000000</td>\n",
       "      <td>0.000000</td>\n",
       "      <td>1.000000</td>\n",
       "      <td>0.000000</td>\n",
       "      <td>0.000000</td>\n",
       "      <td>0.000000</td>\n",
       "      <td>0.614746</td>\n",
       "      <td>0.009064</td>\n",
       "      <td>0.021667</td>\n",
       "      <td>0.816406</td>\n",
       "      <td>...</td>\n",
       "      <td>0.006134</td>\n",
       "      <td>0.005898</td>\n",
       "      <td>0.002422</td>\n",
       "      <td>0.006756</td>\n",
       "      <td>0.004742</td>\n",
       "      <td>0.006393</td>\n",
       "      <td>0.002890</td>\n",
       "      <td>0.006042</td>\n",
       "      <td>0.005207</td>\n",
       "      <td>0.007858</td>\n",
       "    </tr>\n",
       "    <tr>\n",
       "      <th>4</th>\n",
       "      <td>0.000000</td>\n",
       "      <td>0.000000</td>\n",
       "      <td>1.000000</td>\n",
       "      <td>0.000000</td>\n",
       "      <td>0.000000</td>\n",
       "      <td>0.000000</td>\n",
       "      <td>0.591797</td>\n",
       "      <td>0.238770</td>\n",
       "      <td>0.015930</td>\n",
       "      <td>0.810547</td>\n",
       "      <td>...</td>\n",
       "      <td>0.006973</td>\n",
       "      <td>0.005310</td>\n",
       "      <td>0.000302</td>\n",
       "      <td>0.003578</td>\n",
       "      <td>0.008133</td>\n",
       "      <td>0.004330</td>\n",
       "      <td>0.008385</td>\n",
       "      <td>0.001008</td>\n",
       "      <td>0.007420</td>\n",
       "      <td>0.009468</td>\n",
       "    </tr>\n",
       "  </tbody>\n",
       "</table>\n",
       "<p>5 rows × 159 columns</p>\n",
       "</div>"
      ],
      "text/plain": [
       "       0        1        2        3        4        5        6        7    \\\n",
       "0 0.000000 0.000000 1.000000 0.000000 0.000000 0.000000 0.631348 0.001912   \n",
       "1 0.000000 0.000000 1.000000 0.000000 0.000000 0.000000 0.586914 0.005276   \n",
       "2 0.000000 0.000000 1.000000 0.000000 0.000000 0.000000 0.608887 0.003326   \n",
       "3 0.000000 0.000000 1.000000 0.000000 0.000000 0.000000 0.614746 0.009064   \n",
       "4 0.000000 0.000000 1.000000 0.000000 0.000000 0.000000 0.591797 0.238770   \n",
       "\n",
       "       8        9    ...      149      150      151      152      153  \\\n",
       "0 0.010727 0.814453  ... 0.226801 0.123327 0.007080 0.005959 0.179609   \n",
       "1 0.011024 0.811035  ... 0.007599 0.008072 0.007187 0.001253 0.000142   \n",
       "2 0.016388 1.004883  ... 0.003609 0.009865 0.008438 0.001924 0.000074   \n",
       "3 0.021667 0.816406  ... 0.006134 0.005898 0.002422 0.006756 0.004742   \n",
       "4 0.015930 0.810547  ... 0.006973 0.005310 0.000302 0.003578 0.008133   \n",
       "\n",
       "       154      155      156      157      158  \n",
       "0 0.004669 0.165575 0.179486 0.008278 0.063776  \n",
       "1 0.004940 0.009018 0.003695 0.003754 0.001460  \n",
       "2 0.002113 0.004658 0.003155 0.002155 0.006481  \n",
       "3 0.006393 0.002890 0.006042 0.005207 0.007858  \n",
       "4 0.004330 0.008385 0.001008 0.007420 0.009468  \n",
       "\n",
       "[5 rows x 159 columns]"
      ]
     },
     "execution_count": 9,
     "metadata": {},
     "output_type": "execute_result"
    }
   ],
   "source": [
    "kaggle_test_features.head()"
   ]
  },
  {
   "cell_type": "markdown",
   "id": "b00a4311",
   "metadata": {},
   "source": [
    "### Reload the model"
   ]
  },
  {
   "cell_type": "code",
   "execution_count": 17,
   "id": "bb8a9a02",
   "metadata": {},
   "outputs": [
    {
     "data": {
      "text/html": [
       "<style>#sk-container-id-2 {color: black;background-color: white;}#sk-container-id-2 pre{padding: 0;}#sk-container-id-2 div.sk-toggleable {background-color: white;}#sk-container-id-2 label.sk-toggleable__label {cursor: pointer;display: block;width: 100%;margin-bottom: 0;padding: 0.3em;box-sizing: border-box;text-align: center;}#sk-container-id-2 label.sk-toggleable__label-arrow:before {content: \"▸\";float: left;margin-right: 0.25em;color: #696969;}#sk-container-id-2 label.sk-toggleable__label-arrow:hover:before {color: black;}#sk-container-id-2 div.sk-estimator:hover label.sk-toggleable__label-arrow:before {color: black;}#sk-container-id-2 div.sk-toggleable__content {max-height: 0;max-width: 0;overflow: hidden;text-align: left;background-color: #f0f8ff;}#sk-container-id-2 div.sk-toggleable__content pre {margin: 0.2em;color: black;border-radius: 0.25em;background-color: #f0f8ff;}#sk-container-id-2 input.sk-toggleable__control:checked~div.sk-toggleable__content {max-height: 200px;max-width: 100%;overflow: auto;}#sk-container-id-2 input.sk-toggleable__control:checked~label.sk-toggleable__label-arrow:before {content: \"▾\";}#sk-container-id-2 div.sk-estimator input.sk-toggleable__control:checked~label.sk-toggleable__label {background-color: #d4ebff;}#sk-container-id-2 div.sk-label input.sk-toggleable__control:checked~label.sk-toggleable__label {background-color: #d4ebff;}#sk-container-id-2 input.sk-hidden--visually {border: 0;clip: rect(1px 1px 1px 1px);clip: rect(1px, 1px, 1px, 1px);height: 1px;margin: -1px;overflow: hidden;padding: 0;position: absolute;width: 1px;}#sk-container-id-2 div.sk-estimator {font-family: monospace;background-color: #f0f8ff;border: 1px dotted black;border-radius: 0.25em;box-sizing: border-box;margin-bottom: 0.5em;}#sk-container-id-2 div.sk-estimator:hover {background-color: #d4ebff;}#sk-container-id-2 div.sk-parallel-item::after {content: \"\";width: 100%;border-bottom: 1px solid gray;flex-grow: 1;}#sk-container-id-2 div.sk-label:hover label.sk-toggleable__label {background-color: #d4ebff;}#sk-container-id-2 div.sk-serial::before {content: \"\";position: absolute;border-left: 1px solid gray;box-sizing: border-box;top: 0;bottom: 0;left: 50%;z-index: 0;}#sk-container-id-2 div.sk-serial {display: flex;flex-direction: column;align-items: center;background-color: white;padding-right: 0.2em;padding-left: 0.2em;position: relative;}#sk-container-id-2 div.sk-item {position: relative;z-index: 1;}#sk-container-id-2 div.sk-parallel {display: flex;align-items: stretch;justify-content: center;background-color: white;position: relative;}#sk-container-id-2 div.sk-item::before, #sk-container-id-2 div.sk-parallel-item::before {content: \"\";position: absolute;border-left: 1px solid gray;box-sizing: border-box;top: 0;bottom: 0;left: 50%;z-index: -1;}#sk-container-id-2 div.sk-parallel-item {display: flex;flex-direction: column;z-index: 1;position: relative;background-color: white;}#sk-container-id-2 div.sk-parallel-item:first-child::after {align-self: flex-end;width: 50%;}#sk-container-id-2 div.sk-parallel-item:last-child::after {align-self: flex-start;width: 50%;}#sk-container-id-2 div.sk-parallel-item:only-child::after {width: 0;}#sk-container-id-2 div.sk-dashed-wrapped {border: 1px dashed gray;margin: 0 0.4em 0.5em 0.4em;box-sizing: border-box;padding-bottom: 0.4em;background-color: white;}#sk-container-id-2 div.sk-label label {font-family: monospace;font-weight: bold;display: inline-block;line-height: 1.2em;}#sk-container-id-2 div.sk-label-container {text-align: center;}#sk-container-id-2 div.sk-container {/* jupyter's `normalize.less` sets `[hidden] { display: none; }` but bootstrap.min.css set `[hidden] { display: none !important; }` so we also need the `!important` here to be able to override the default hidden behavior on the sphinx rendered scikit-learn.org. See: https://github.com/scikit-learn/scikit-learn/issues/21755 */display: inline-block !important;position: relative;}#sk-container-id-2 div.sk-text-repr-fallback {display: none;}</style><div id=\"sk-container-id-2\" class=\"sk-top-container\"><div class=\"sk-text-repr-fallback\"><pre>RandomForestClassifier(criterion=&#x27;entropy&#x27;, max_depth=150, max_samples=0.4,\n",
       "                       min_samples_leaf=2, min_samples_split=6, n_estimators=16,\n",
       "                       n_jobs=-1)</pre><b>In a Jupyter environment, please rerun this cell to show the HTML representation or trust the notebook. <br />On GitHub, the HTML representation is unable to render, please try loading this page with nbviewer.org.</b></div><div class=\"sk-container\" hidden><div class=\"sk-item\"><div class=\"sk-estimator sk-toggleable\"><input class=\"sk-toggleable__control sk-hidden--visually\" id=\"sk-estimator-id-2\" type=\"checkbox\" checked><label for=\"sk-estimator-id-2\" class=\"sk-toggleable__label sk-toggleable__label-arrow\">RandomForestClassifier</label><div class=\"sk-toggleable__content\"><pre>RandomForestClassifier(criterion=&#x27;entropy&#x27;, max_depth=150, max_samples=0.4,\n",
       "                       min_samples_leaf=2, min_samples_split=6, n_estimators=16,\n",
       "                       n_jobs=-1)</pre></div></div></div></div></div>"
      ],
      "text/plain": [
       "RandomForestClassifier(criterion='entropy', max_depth=150, max_samples=0.4,\n",
       "                       min_samples_leaf=2, min_samples_split=6, n_estimators=16,\n",
       "                       n_jobs=-1)"
      ]
     },
     "execution_count": 17,
     "metadata": {},
     "output_type": "execute_result"
    }
   ],
   "source": [
    "# load the model from disk\n",
    "loaded_model = pickle.load(open(filename, 'rb'))"
   ]
  },
  {
   "cell_type": "code",
   "execution_count": null,
   "id": "d065473f",
   "metadata": {},
   "outputs": [],
   "source": [
    "#generate test dataset preds\n",
    "kaggle_preds = loaded_model.predict(kaggle_test_features)"
   ]
  },
  {
   "cell_type": "code",
   "execution_count": 88,
   "id": "a1178855",
   "metadata": {},
   "outputs": [],
   "source": [
    "#ceate final submission df\n",
    "sub_df = pd.DataFrame({'customer_ID': cust_IDS,\n",
    "                       'prediction': kaggle_preds})\n",
    "#turn the predictions into an integer, drop decimals places\n",
    "sub_df['prediction'] = sub_df['prediction'].astype(int)"
   ]
  },
  {
   "cell_type": "code",
   "execution_count": 89,
   "id": "3620a1cd",
   "metadata": {},
   "outputs": [],
   "source": [
    "#aggregate by user id, get rid of duplicates\n",
    "sub_df = sub_df.groupby(by='customer_ID').sum()"
   ]
  },
  {
   "cell_type": "code",
   "execution_count": 91,
   "id": "673cb72a",
   "metadata": {},
   "outputs": [],
   "source": [
    "#change to binary output\n",
    "sub_df['prediction'] = sub_df['prediction'].astype(bool).astype(int)"
   ]
  },
  {
   "cell_type": "code",
   "execution_count": 95,
   "id": "fdadf884",
   "metadata": {
    "scrolled": true
   },
   "outputs": [],
   "source": [
    "#turn the index into actual column\n",
    "sub_df['customer_ID'] = sub_df.index"
   ]
  },
  {
   "cell_type": "code",
   "execution_count": 96,
   "id": "0f3b4e0d",
   "metadata": {},
   "outputs": [],
   "source": [
    "#transfer to submission csv file \n",
    "sub_df.to_csv('submission_file.csv',index=False)"
   ]
  },
  {
   "cell_type": "markdown",
   "id": "d6227580",
   "metadata": {},
   "source": [
    "___"
   ]
  },
  {
   "cell_type": "markdown",
   "id": "8e5359cc",
   "metadata": {},
   "source": [
    "## Key Takeaways & Considerations for next time:\n",
    "\n",
    "* Consider other types of trees and ensemble methods. Sklearn has so many other  __[ensemble methods](https://scikit-learn.org/stable/modules/classes.html#module-sklearn.ensemble)__ which would be interesting to explore. Also gradient boosted trees would be interesting to look into.  \n",
    "* In hindsight as random forests support natively numerical and categorical features perhaps I wouldnt have spent so much time on feature pre-processing.\n",
    "* Random forests by default have very effective parameters, and hyperparameter tuning sometime has no value add. \n",
    "* Given the size of the data set, the number of decision trees in the model and the fact that cross validation was used, it was **incredibly slow** to train\n"
   ]
  },
  {
   "cell_type": "code",
   "execution_count": 169,
   "id": "f37d40f4",
   "metadata": {},
   "outputs": [],
   "source": [
    "#Export cleaned datasets to CSVs for other potential models\n",
    "X_train.to_feather('amex_X_train.ftr')"
   ]
  },
  {
   "cell_type": "code",
   "execution_count": 170,
   "id": "6d53ac2a",
   "metadata": {},
   "outputs": [],
   "source": [
    "X_val.to_csv('amex_X_val.ftr')"
   ]
  },
  {
   "cell_type": "code",
   "execution_count": null,
   "id": "416e9e4e",
   "metadata": {},
   "outputs": [],
   "source": [
    "X_test.to_csv('amex_X_test.ftr')"
   ]
  },
  {
   "cell_type": "code",
   "execution_count": null,
   "id": "10f8d9b3",
   "metadata": {},
   "outputs": [],
   "source": [
    "Y_train.to_csv('amex_Y_train.ftr')"
   ]
  },
  {
   "cell_type": "code",
   "execution_count": null,
   "id": "9a6640ec",
   "metadata": {},
   "outputs": [],
   "source": [
    "Y_val.to_csv('amex_Y_val.ftr')"
   ]
  },
  {
   "cell_type": "code",
   "execution_count": null,
   "id": "89cb0c30",
   "metadata": {},
   "outputs": [],
   "source": [
    "X_test.to_csv('amex_Y_test.ftr')"
   ]
  }
 ],
 "metadata": {
  "kernelspec": {
   "display_name": "Python 3 (ipykernel)",
   "language": "python",
   "name": "python3"
  },
  "language_info": {
   "codemirror_mode": {
    "name": "ipython",
    "version": 3
   },
   "file_extension": ".py",
   "mimetype": "text/x-python",
   "name": "python",
   "nbconvert_exporter": "python",
   "pygments_lexer": "ipython3",
   "version": "3.10.8"
  }
 },
 "nbformat": 4,
 "nbformat_minor": 5
}
